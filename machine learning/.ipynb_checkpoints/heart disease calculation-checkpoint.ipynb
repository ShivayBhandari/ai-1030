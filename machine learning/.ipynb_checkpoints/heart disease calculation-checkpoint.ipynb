{
 "cells": [
  {
   "cell_type": "code",
   "execution_count": 1,
   "id": "87489cec",
   "metadata": {},
   "outputs": [],
   "source": [
    "import numpy as np\n",
    "import pandas as pd\n",
    "import matplotlib.pyplot as plt\n",
    "import seaborn as sns\n",
    "import plotly.express as px"
   ]
  },
  {
   "cell_type": "code",
   "execution_count": 2,
   "id": "d65d58c0",
   "metadata": {},
   "outputs": [
    {
     "data": {
      "text/html": [
       "<div>\n",
       "<style scoped>\n",
       "    .dataframe tbody tr th:only-of-type {\n",
       "        vertical-align: middle;\n",
       "    }\n",
       "\n",
       "    .dataframe tbody tr th {\n",
       "        vertical-align: top;\n",
       "    }\n",
       "\n",
       "    .dataframe thead th {\n",
       "        text-align: right;\n",
       "    }\n",
       "</style>\n",
       "<table border=\"1\" class=\"dataframe\">\n",
       "  <thead>\n",
       "    <tr style=\"text-align: right;\">\n",
       "      <th></th>\n",
       "      <th>Age</th>\n",
       "      <th>Sex</th>\n",
       "      <th>ChestPainType</th>\n",
       "      <th>RestingBP</th>\n",
       "      <th>Cholesterol</th>\n",
       "      <th>FastingBS</th>\n",
       "      <th>RestingECG</th>\n",
       "      <th>MaxHR</th>\n",
       "      <th>ExerciseAngina</th>\n",
       "      <th>Oldpeak</th>\n",
       "      <th>ST_Slope</th>\n",
       "      <th>HeartDisease</th>\n",
       "    </tr>\n",
       "  </thead>\n",
       "  <tbody>\n",
       "    <tr>\n",
       "      <th>0</th>\n",
       "      <td>40</td>\n",
       "      <td>M</td>\n",
       "      <td>ATA</td>\n",
       "      <td>140</td>\n",
       "      <td>289</td>\n",
       "      <td>0</td>\n",
       "      <td>Normal</td>\n",
       "      <td>172</td>\n",
       "      <td>N</td>\n",
       "      <td>0.0</td>\n",
       "      <td>Up</td>\n",
       "      <td>0</td>\n",
       "    </tr>\n",
       "    <tr>\n",
       "      <th>1</th>\n",
       "      <td>49</td>\n",
       "      <td>F</td>\n",
       "      <td>NAP</td>\n",
       "      <td>160</td>\n",
       "      <td>180</td>\n",
       "      <td>0</td>\n",
       "      <td>Normal</td>\n",
       "      <td>156</td>\n",
       "      <td>N</td>\n",
       "      <td>1.0</td>\n",
       "      <td>Flat</td>\n",
       "      <td>1</td>\n",
       "    </tr>\n",
       "    <tr>\n",
       "      <th>2</th>\n",
       "      <td>37</td>\n",
       "      <td>M</td>\n",
       "      <td>ATA</td>\n",
       "      <td>130</td>\n",
       "      <td>283</td>\n",
       "      <td>0</td>\n",
       "      <td>ST</td>\n",
       "      <td>98</td>\n",
       "      <td>N</td>\n",
       "      <td>0.0</td>\n",
       "      <td>Up</td>\n",
       "      <td>0</td>\n",
       "    </tr>\n",
       "    <tr>\n",
       "      <th>3</th>\n",
       "      <td>48</td>\n",
       "      <td>F</td>\n",
       "      <td>ASY</td>\n",
       "      <td>138</td>\n",
       "      <td>214</td>\n",
       "      <td>0</td>\n",
       "      <td>Normal</td>\n",
       "      <td>108</td>\n",
       "      <td>Y</td>\n",
       "      <td>1.5</td>\n",
       "      <td>Flat</td>\n",
       "      <td>1</td>\n",
       "    </tr>\n",
       "    <tr>\n",
       "      <th>4</th>\n",
       "      <td>54</td>\n",
       "      <td>M</td>\n",
       "      <td>NAP</td>\n",
       "      <td>150</td>\n",
       "      <td>195</td>\n",
       "      <td>0</td>\n",
       "      <td>Normal</td>\n",
       "      <td>122</td>\n",
       "      <td>N</td>\n",
       "      <td>0.0</td>\n",
       "      <td>Up</td>\n",
       "      <td>0</td>\n",
       "    </tr>\n",
       "  </tbody>\n",
       "</table>\n",
       "</div>"
      ],
      "text/plain": [
       "   Age Sex ChestPainType  RestingBP  Cholesterol  FastingBS RestingECG  MaxHR  \\\n",
       "0   40   M           ATA        140          289          0     Normal    172   \n",
       "1   49   F           NAP        160          180          0     Normal    156   \n",
       "2   37   M           ATA        130          283          0         ST     98   \n",
       "3   48   F           ASY        138          214          0     Normal    108   \n",
       "4   54   M           NAP        150          195          0     Normal    122   \n",
       "\n",
       "  ExerciseAngina  Oldpeak ST_Slope  HeartDisease  \n",
       "0              N      0.0       Up             0  \n",
       "1              N      1.0     Flat             1  \n",
       "2              N      0.0       Up             0  \n",
       "3              Y      1.5     Flat             1  \n",
       "4              N      0.0       Up             0  "
      ]
     },
     "execution_count": 2,
     "metadata": {},
     "output_type": "execute_result"
    }
   ],
   "source": [
    "df = pd.read_csv('heart.csv')\n",
    "df.head()"
   ]
  },
  {
   "cell_type": "code",
   "execution_count": 3,
   "id": "015cbb5c",
   "metadata": {},
   "outputs": [
    {
     "name": "stdout",
     "output_type": "stream",
     "text": [
      "<class 'pandas.core.frame.DataFrame'>\n",
      "RangeIndex: 918 entries, 0 to 917\n",
      "Data columns (total 12 columns):\n",
      " #   Column          Non-Null Count  Dtype  \n",
      "---  ------          --------------  -----  \n",
      " 0   Age             918 non-null    int64  \n",
      " 1   Sex             918 non-null    object \n",
      " 2   ChestPainType   918 non-null    object \n",
      " 3   RestingBP       918 non-null    int64  \n",
      " 4   Cholesterol     918 non-null    int64  \n",
      " 5   FastingBS       918 non-null    int64  \n",
      " 6   RestingECG      918 non-null    object \n",
      " 7   MaxHR           918 non-null    int64  \n",
      " 8   ExerciseAngina  918 non-null    object \n",
      " 9   Oldpeak         918 non-null    float64\n",
      " 10  ST_Slope        918 non-null    object \n",
      " 11  HeartDisease    918 non-null    int64  \n",
      "dtypes: float64(1), int64(6), object(5)\n",
      "memory usage: 86.2+ KB\n"
     ]
    }
   ],
   "source": [
    "df.info()"
   ]
  },
  {
   "cell_type": "code",
   "execution_count": 4,
   "id": "ed57d5f8",
   "metadata": {},
   "outputs": [
    {
     "data": {
      "text/plain": [
       "array(['M', 'F'], dtype=object)"
      ]
     },
     "execution_count": 4,
     "metadata": {},
     "output_type": "execute_result"
    }
   ],
   "source": [
    "df['Sex'].unique()"
   ]
  },
  {
   "cell_type": "code",
   "execution_count": 6,
   "id": "7814efff",
   "metadata": {},
   "outputs": [
    {
     "data": {
      "text/plain": [
       "<AxesSubplot:xlabel='Sex', ylabel='count'>"
      ]
     },
     "execution_count": 6,
     "metadata": {},
     "output_type": "execute_result"
    },
    {
     "data": {
      "image/png": "[encoded data removed]",
      "text/plain": [
       "<Figure size 432x288 with 1 Axes>"
      ]
     },
     "metadata": {},
     "output_type": "display_data"
    }
   ],
   "source": [
    "sns.set_style('whitegrid')\n",
    "sns.countplot(x = 'Sex', data = df, hue = 'HeartDisease')"
   ]
  },
  {
   "cell_type": "code",
   "execution_count": 11,
   "id": "28b3369b",
   "metadata": {},
   "outputs": [
    {
     "data": {
      "text/html": [
       "<div>\n",
       "<style scoped>\n",
       "    .dataframe tbody tr th:only-of-type {\n",
       "        vertical-align: middle;\n",
       "    }\n",
       "\n",
       "    .dataframe tbody tr th {\n",
       "        vertical-align: top;\n",
       "    }\n",
       "\n",
       "    .dataframe thead th {\n",
       "        text-align: right;\n",
       "    }\n",
       "</style>\n",
       "<table border=\"1\" class=\"dataframe\">\n",
       "  <thead>\n",
       "    <tr style=\"text-align: right;\">\n",
       "      <th></th>\n",
       "      <th>M</th>\n",
       "    </tr>\n",
       "  </thead>\n",
       "  <tbody>\n",
       "    <tr>\n",
       "      <th>0</th>\n",
       "      <td>1</td>\n",
       "    </tr>\n",
       "    <tr>\n",
       "      <th>1</th>\n",
       "      <td>0</td>\n",
       "    </tr>\n",
       "    <tr>\n",
       "      <th>2</th>\n",
       "      <td>1</td>\n",
       "    </tr>\n",
       "    <tr>\n",
       "      <th>3</th>\n",
       "      <td>0</td>\n",
       "    </tr>\n",
       "    <tr>\n",
       "      <th>4</th>\n",
       "      <td>1</td>\n",
       "    </tr>\n",
       "  </tbody>\n",
       "</table>\n",
       "</div>"
      ],
      "text/plain": [
       "   M\n",
       "0  1\n",
       "1  0\n",
       "2  1\n",
       "3  0\n",
       "4  1"
      ]
     },
     "execution_count": 11,
     "metadata": {},
     "output_type": "execute_result"
    }
   ],
   "source": [
    "sex = pd.get_dummies(df['Sex'], drop_first = True)\n",
    "sex.head()"
   ]
  },
  {
   "cell_type": "code",
   "execution_count": 12,
   "id": "30cb23ab",
   "metadata": {},
   "outputs": [
    {
     "data": {
      "text/plain": [
       "array(['ATA', 'NAP', 'ASY', 'TA'], dtype=object)"
      ]
     },
     "execution_count": 12,
     "metadata": {},
     "output_type": "execute_result"
    }
   ],
   "source": [
    "df['ChestPainType'].unique()"
   ]
  },
  {
   "cell_type": "code",
   "execution_count": 13,
   "id": "90731696",
   "metadata": {},
   "outputs": [],
   "source": [
    "from sklearn.preprocessing import LabelEncoder"
   ]
  },
  {
   "cell_type": "code",
   "execution_count": 14,
   "id": "9869440e",
   "metadata": {},
   "outputs": [
    {
     "data": {
      "text/plain": [
       "LabelEncoder()"
      ]
     },
     "execution_count": 14,
     "metadata": {},
     "output_type": "execute_result"
    }
   ],
   "source": [
    "encoder = LabelEncoder()\n",
    "encoder.fit(df['ChestPainType'])"
   ]
  },
  {
   "cell_type": "code",
   "execution_count": 16,
   "id": "5baee48a",
   "metadata": {},
   "outputs": [],
   "source": [
    "df['Chest Pain Encoded'] = encoder.transform(df['ChestPainType'])"
   ]
  },
  {
   "cell_type": "code",
   "execution_count": 17,
   "id": "cd667ab9",
   "metadata": {},
   "outputs": [
    {
     "data": {
      "text/html": [
       "<div>\n",
       "<style scoped>\n",
       "    .dataframe tbody tr th:only-of-type {\n",
       "        vertical-align: middle;\n",
       "    }\n",
       "\n",
       "    .dataframe tbody tr th {\n",
       "        vertical-align: top;\n",
       "    }\n",
       "\n",
       "    .dataframe thead th {\n",
       "        text-align: right;\n",
       "    }\n",
       "</style>\n",
       "<table border=\"1\" class=\"dataframe\">\n",
       "  <thead>\n",
       "    <tr style=\"text-align: right;\">\n",
       "      <th></th>\n",
       "      <th>Age</th>\n",
       "      <th>Sex</th>\n",
       "      <th>ChestPainType</th>\n",
       "      <th>RestingBP</th>\n",
       "      <th>Cholesterol</th>\n",
       "      <th>FastingBS</th>\n",
       "      <th>RestingECG</th>\n",
       "      <th>MaxHR</th>\n",
       "      <th>ExerciseAngina</th>\n",
       "      <th>Oldpeak</th>\n",
       "      <th>ST_Slope</th>\n",
       "      <th>HeartDisease</th>\n",
       "      <th>Chest Pain Encoded</th>\n",
       "    </tr>\n",
       "  </thead>\n",
       "  <tbody>\n",
       "    <tr>\n",
       "      <th>0</th>\n",
       "      <td>40</td>\n",
       "      <td>M</td>\n",
       "      <td>ATA</td>\n",
       "      <td>140</td>\n",
       "      <td>289</td>\n",
       "      <td>0</td>\n",
       "      <td>Normal</td>\n",
       "      <td>172</td>\n",
       "      <td>N</td>\n",
       "      <td>0.0</td>\n",
       "      <td>Up</td>\n",
       "      <td>0</td>\n",
       "      <td>1</td>\n",
       "    </tr>\n",
       "    <tr>\n",
       "      <th>1</th>\n",
       "      <td>49</td>\n",
       "      <td>F</td>\n",
       "      <td>NAP</td>\n",
       "      <td>160</td>\n",
       "      <td>180</td>\n",
       "      <td>0</td>\n",
       "      <td>Normal</td>\n",
       "      <td>156</td>\n",
       "      <td>N</td>\n",
       "      <td>1.0</td>\n",
       "      <td>Flat</td>\n",
       "      <td>1</td>\n",
       "      <td>2</td>\n",
       "    </tr>\n",
       "    <tr>\n",
       "      <th>2</th>\n",
       "      <td>37</td>\n",
       "      <td>M</td>\n",
       "      <td>ATA</td>\n",
       "      <td>130</td>\n",
       "      <td>283</td>\n",
       "      <td>0</td>\n",
       "      <td>ST</td>\n",
       "      <td>98</td>\n",
       "      <td>N</td>\n",
       "      <td>0.0</td>\n",
       "      <td>Up</td>\n",
       "      <td>0</td>\n",
       "      <td>1</td>\n",
       "    </tr>\n",
       "    <tr>\n",
       "      <th>3</th>\n",
       "      <td>48</td>\n",
       "      <td>F</td>\n",
       "      <td>ASY</td>\n",
       "      <td>138</td>\n",
       "      <td>214</td>\n",
       "      <td>0</td>\n",
       "      <td>Normal</td>\n",
       "      <td>108</td>\n",
       "      <td>Y</td>\n",
       "      <td>1.5</td>\n",
       "      <td>Flat</td>\n",
       "      <td>1</td>\n",
       "      <td>0</td>\n",
       "    </tr>\n",
       "    <tr>\n",
       "      <th>4</th>\n",
       "      <td>54</td>\n",
       "      <td>M</td>\n",
       "      <td>NAP</td>\n",
       "      <td>150</td>\n",
       "      <td>195</td>\n",
       "      <td>0</td>\n",
       "      <td>Normal</td>\n",
       "      <td>122</td>\n",
       "      <td>N</td>\n",
       "      <td>0.0</td>\n",
       "      <td>Up</td>\n",
       "      <td>0</td>\n",
       "      <td>2</td>\n",
       "    </tr>\n",
       "  </tbody>\n",
       "</table>\n",
       "</div>"
      ],
      "text/plain": [
       "   Age Sex ChestPainType  RestingBP  Cholesterol  FastingBS RestingECG  MaxHR  \\\n",
       "0   40   M           ATA        140          289          0     Normal    172   \n",
       "1   49   F           NAP        160          180          0     Normal    156   \n",
       "2   37   M           ATA        130          283          0         ST     98   \n",
       "3   48   F           ASY        138          214          0     Normal    108   \n",
       "4   54   M           NAP        150          195          0     Normal    122   \n",
       "\n",
       "  ExerciseAngina  Oldpeak ST_Slope  HeartDisease  Chest Pain Encoded  \n",
       "0              N      0.0       Up             0                   1  \n",
       "1              N      1.0     Flat             1                   2  \n",
       "2              N      0.0       Up             0                   1  \n",
       "3              Y      1.5     Flat             1                   0  \n",
       "4              N      0.0       Up             0                   2  "
      ]
     },
     "execution_count": 17,
     "metadata": {},
     "output_type": "execute_result"
    }
   ],
   "source": [
    "df.head()"
   ]
  },
  {
   "cell_type": "code",
   "execution_count": 18,
   "id": "6e082ace",
   "metadata": {},
   "outputs": [
    {
     "data": {
      "text/plain": [
       "Age                     0\n",
       "Sex                     0\n",
       "ChestPainType           0\n",
       "RestingBP               1\n",
       "Cholesterol           172\n",
       "FastingBS             704\n",
       "RestingECG              0\n",
       "MaxHR                   0\n",
       "ExerciseAngina          0\n",
       "Oldpeak               368\n",
       "ST_Slope                0\n",
       "HeartDisease          410\n",
       "Chest Pain Encoded    496\n",
       "dtype: int64"
      ]
     },
     "execution_count": 18,
     "metadata": {},
     "output_type": "execute_result"
    }
   ],
   "source": [
    "df.eq(0).sum()"
   ]
  },
  {
   "cell_type": "code",
   "execution_count": 20,
   "id": "d466b94b",
   "metadata": {},
   "outputs": [],
   "source": [
    "df[['RestingBP', 'Cholesterol']] = df[['RestingBP', 'Cholesterol']].replace(0, np.nan)"
   ]
  },
  {
   "cell_type": "code",
   "execution_count": 21,
   "id": "f30acea6",
   "metadata": {},
   "outputs": [
    {
     "data": {
      "text/plain": [
       "Age                     0\n",
       "Sex                     0\n",
       "ChestPainType           0\n",
       "RestingBP               1\n",
       "Cholesterol           172\n",
       "FastingBS               0\n",
       "RestingECG              0\n",
       "MaxHR                   0\n",
       "ExerciseAngina          0\n",
       "Oldpeak                 0\n",
       "ST_Slope                0\n",
       "HeartDisease            0\n",
       "Chest Pain Encoded      0\n",
       "dtype: int64"
      ]
     },
     "execution_count": 21,
     "metadata": {},
     "output_type": "execute_result"
    }
   ],
   "source": [
    "df.isnull().sum()"
   ]
  },
  {
   "cell_type": "code",
   "execution_count": 24,
   "id": "7130ebd7",
   "metadata": {},
   "outputs": [
    {
     "name": "stderr",
     "output_type": "stream",
     "text": [
      "/var/folders/4y/pcdt74h51_x2zz4w3hlpvzxh0000gn/T/ipykernel_21892/820435583.py:1: FutureWarning: Dropping of nuisance columns in DataFrame reductions (with 'numeric_only=None') is deprecated; in a future version this will raise TypeError.  Select only valid columns before calling the reduction.\n",
      "  df.fillna(df.mean(), inplace=True)\n"
     ]
    }
   ],
   "source": [
    "df.fillna(df.mean(), inplace=True)"
   ]
  },
  {
   "cell_type": "code",
   "execution_count": 25,
   "id": "f48f55b1",
   "metadata": {},
   "outputs": [
    {
     "data": {
      "text/html": [
       "<div>\n",
       "<style scoped>\n",
       "    .dataframe tbody tr th:only-of-type {\n",
       "        vertical-align: middle;\n",
       "    }\n",
       "\n",
       "    .dataframe tbody tr th {\n",
       "        vertical-align: top;\n",
       "    }\n",
       "\n",
       "    .dataframe thead th {\n",
       "        text-align: right;\n",
       "    }\n",
       "</style>\n",
       "<table border=\"1\" class=\"dataframe\">\n",
       "  <thead>\n",
       "    <tr style=\"text-align: right;\">\n",
       "      <th></th>\n",
       "      <th>Age</th>\n",
       "      <th>Sex</th>\n",
       "      <th>ChestPainType</th>\n",
       "      <th>RestingBP</th>\n",
       "      <th>Cholesterol</th>\n",
       "      <th>FastingBS</th>\n",
       "      <th>RestingECG</th>\n",
       "      <th>MaxHR</th>\n",
       "      <th>ExerciseAngina</th>\n",
       "      <th>Oldpeak</th>\n",
       "      <th>ST_Slope</th>\n",
       "      <th>HeartDisease</th>\n",
       "      <th>Chest Pain Encoded</th>\n",
       "    </tr>\n",
       "  </thead>\n",
       "  <tbody>\n",
       "    <tr>\n",
       "      <th>0</th>\n",
       "      <td>40</td>\n",
       "      <td>M</td>\n",
       "      <td>ATA</td>\n",
       "      <td>140.0</td>\n",
       "      <td>289.0</td>\n",
       "      <td>0</td>\n",
       "      <td>Normal</td>\n",
       "      <td>172</td>\n",
       "      <td>N</td>\n",
       "      <td>0.0</td>\n",
       "      <td>Up</td>\n",
       "      <td>0</td>\n",
       "      <td>1</td>\n",
       "    </tr>\n",
       "    <tr>\n",
       "      <th>1</th>\n",
       "      <td>49</td>\n",
       "      <td>F</td>\n",
       "      <td>NAP</td>\n",
       "      <td>160.0</td>\n",
       "      <td>180.0</td>\n",
       "      <td>0</td>\n",
       "      <td>Normal</td>\n",
       "      <td>156</td>\n",
       "      <td>N</td>\n",
       "      <td>1.0</td>\n",
       "      <td>Flat</td>\n",
       "      <td>1</td>\n",
       "      <td>2</td>\n",
       "    </tr>\n",
       "    <tr>\n",
       "      <th>2</th>\n",
       "      <td>37</td>\n",
       "      <td>M</td>\n",
       "      <td>ATA</td>\n",
       "      <td>130.0</td>\n",
       "      <td>283.0</td>\n",
       "      <td>0</td>\n",
       "      <td>ST</td>\n",
       "      <td>98</td>\n",
       "      <td>N</td>\n",
       "      <td>0.0</td>\n",
       "      <td>Up</td>\n",
       "      <td>0</td>\n",
       "      <td>1</td>\n",
       "    </tr>\n",
       "    <tr>\n",
       "      <th>3</th>\n",
       "      <td>48</td>\n",
       "      <td>F</td>\n",
       "      <td>ASY</td>\n",
       "      <td>138.0</td>\n",
       "      <td>214.0</td>\n",
       "      <td>0</td>\n",
       "      <td>Normal</td>\n",
       "      <td>108</td>\n",
       "      <td>Y</td>\n",
       "      <td>1.5</td>\n",
       "      <td>Flat</td>\n",
       "      <td>1</td>\n",
       "      <td>0</td>\n",
       "    </tr>\n",
       "    <tr>\n",
       "      <th>4</th>\n",
       "      <td>54</td>\n",
       "      <td>M</td>\n",
       "      <td>NAP</td>\n",
       "      <td>150.0</td>\n",
       "      <td>195.0</td>\n",
       "      <td>0</td>\n",
       "      <td>Normal</td>\n",
       "      <td>122</td>\n",
       "      <td>N</td>\n",
       "      <td>0.0</td>\n",
       "      <td>Up</td>\n",
       "      <td>0</td>\n",
       "      <td>2</td>\n",
       "    </tr>\n",
       "  </tbody>\n",
       "</table>\n",
       "</div>"
      ],
      "text/plain": [
       "   Age Sex ChestPainType  RestingBP  Cholesterol  FastingBS RestingECG  MaxHR  \\\n",
       "0   40   M           ATA      140.0        289.0          0     Normal    172   \n",
       "1   49   F           NAP      160.0        180.0          0     Normal    156   \n",
       "2   37   M           ATA      130.0        283.0          0         ST     98   \n",
       "3   48   F           ASY      138.0        214.0          0     Normal    108   \n",
       "4   54   M           NAP      150.0        195.0          0     Normal    122   \n",
       "\n",
       "  ExerciseAngina  Oldpeak ST_Slope  HeartDisease  Chest Pain Encoded  \n",
       "0              N      0.0       Up             0                   1  \n",
       "1              N      1.0     Flat             1                   2  \n",
       "2              N      0.0       Up             0                   1  \n",
       "3              Y      1.5     Flat             1                   0  \n",
       "4              N      0.0       Up             0                   2  "
      ]
     },
     "execution_count": 25,
     "metadata": {},
     "output_type": "execute_result"
    }
   ],
   "source": [
    "df.head()"
   ]
  },
  {
   "cell_type": "code",
   "execution_count": 27,
   "id": "87034584",
   "metadata": {},
   "outputs": [
    {
     "data": {
      "text/plain": [
       "array(['Normal', 'ST', 'LVH'], dtype=object)"
      ]
     },
     "execution_count": 27,
     "metadata": {},
     "output_type": "execute_result"
    }
   ],
   "source": [
    "df['RestingECG'].unique()"
   ]
  },
  {
   "cell_type": "code",
   "execution_count": 30,
   "id": "798f4834",
   "metadata": {},
   "outputs": [],
   "source": [
    "ecg_encoder = LabelEncoder()\n",
    "ecg_encoder.fit(df['RestingECG'])\n",
    "df['Resting ECG Encoded'] = ecg_encoder.transform(df['RestingECG'])"
   ]
  },
  {
   "cell_type": "code",
   "execution_count": 32,
   "id": "220e504d",
   "metadata": {},
   "outputs": [
    {
     "data": {
      "text/html": [
       "<div>\n",
       "<style scoped>\n",
       "    .dataframe tbody tr th:only-of-type {\n",
       "        vertical-align: middle;\n",
       "    }\n",
       "\n",
       "    .dataframe tbody tr th {\n",
       "        vertical-align: top;\n",
       "    }\n",
       "\n",
       "    .dataframe thead th {\n",
       "        text-align: right;\n",
       "    }\n",
       "</style>\n",
       "<table border=\"1\" class=\"dataframe\">\n",
       "  <thead>\n",
       "    <tr style=\"text-align: right;\">\n",
       "      <th></th>\n",
       "      <th>Age</th>\n",
       "      <th>Sex</th>\n",
       "      <th>ChestPainType</th>\n",
       "      <th>RestingBP</th>\n",
       "      <th>Cholesterol</th>\n",
       "      <th>FastingBS</th>\n",
       "      <th>RestingECG</th>\n",
       "      <th>MaxHR</th>\n",
       "      <th>ExerciseAngina</th>\n",
       "      <th>Oldpeak</th>\n",
       "      <th>ST_Slope</th>\n",
       "      <th>HeartDisease</th>\n",
       "      <th>Chest Pain Encoded</th>\n",
       "      <th>Resting ECG Encoded</th>\n",
       "    </tr>\n",
       "  </thead>\n",
       "  <tbody>\n",
       "    <tr>\n",
       "      <th>0</th>\n",
       "      <td>40</td>\n",
       "      <td>M</td>\n",
       "      <td>ATA</td>\n",
       "      <td>140.0</td>\n",
       "      <td>289.0</td>\n",
       "      <td>0</td>\n",
       "      <td>Normal</td>\n",
       "      <td>172</td>\n",
       "      <td>N</td>\n",
       "      <td>0.0</td>\n",
       "      <td>Up</td>\n",
       "      <td>0</td>\n",
       "      <td>1</td>\n",
       "      <td>1</td>\n",
       "    </tr>\n",
       "    <tr>\n",
       "      <th>1</th>\n",
       "      <td>49</td>\n",
       "      <td>F</td>\n",
       "      <td>NAP</td>\n",
       "      <td>160.0</td>\n",
       "      <td>180.0</td>\n",
       "      <td>0</td>\n",
       "      <td>Normal</td>\n",
       "      <td>156</td>\n",
       "      <td>N</td>\n",
       "      <td>1.0</td>\n",
       "      <td>Flat</td>\n",
       "      <td>1</td>\n",
       "      <td>2</td>\n",
       "      <td>1</td>\n",
       "    </tr>\n",
       "    <tr>\n",
       "      <th>2</th>\n",
       "      <td>37</td>\n",
       "      <td>M</td>\n",
       "      <td>ATA</td>\n",
       "      <td>130.0</td>\n",
       "      <td>283.0</td>\n",
       "      <td>0</td>\n",
       "      <td>ST</td>\n",
       "      <td>98</td>\n",
       "      <td>N</td>\n",
       "      <td>0.0</td>\n",
       "      <td>Up</td>\n",
       "      <td>0</td>\n",
       "      <td>1</td>\n",
       "      <td>2</td>\n",
       "    </tr>\n",
       "    <tr>\n",
       "      <th>3</th>\n",
       "      <td>48</td>\n",
       "      <td>F</td>\n",
       "      <td>ASY</td>\n",
       "      <td>138.0</td>\n",
       "      <td>214.0</td>\n",
       "      <td>0</td>\n",
       "      <td>Normal</td>\n",
       "      <td>108</td>\n",
       "      <td>Y</td>\n",
       "      <td>1.5</td>\n",
       "      <td>Flat</td>\n",
       "      <td>1</td>\n",
       "      <td>0</td>\n",
       "      <td>1</td>\n",
       "    </tr>\n",
       "    <tr>\n",
       "      <th>4</th>\n",
       "      <td>54</td>\n",
       "      <td>M</td>\n",
       "      <td>NAP</td>\n",
       "      <td>150.0</td>\n",
       "      <td>195.0</td>\n",
       "      <td>0</td>\n",
       "      <td>Normal</td>\n",
       "      <td>122</td>\n",
       "      <td>N</td>\n",
       "      <td>0.0</td>\n",
       "      <td>Up</td>\n",
       "      <td>0</td>\n",
       "      <td>2</td>\n",
       "      <td>1</td>\n",
       "    </tr>\n",
       "  </tbody>\n",
       "</table>\n",
       "</div>"
      ],
      "text/plain": [
       "   Age Sex ChestPainType  RestingBP  Cholesterol  FastingBS RestingECG  MaxHR  \\\n",
       "0   40   M           ATA      140.0        289.0          0     Normal    172   \n",
       "1   49   F           NAP      160.0        180.0          0     Normal    156   \n",
       "2   37   M           ATA      130.0        283.0          0         ST     98   \n",
       "3   48   F           ASY      138.0        214.0          0     Normal    108   \n",
       "4   54   M           NAP      150.0        195.0          0     Normal    122   \n",
       "\n",
       "  ExerciseAngina  Oldpeak ST_Slope  HeartDisease  Chest Pain Encoded  \\\n",
       "0              N      0.0       Up             0                   1   \n",
       "1              N      1.0     Flat             1                   2   \n",
       "2              N      0.0       Up             0                   1   \n",
       "3              Y      1.5     Flat             1                   0   \n",
       "4              N      0.0       Up             0                   2   \n",
       "\n",
       "   Resting ECG Encoded  \n",
       "0                    1  \n",
       "1                    1  \n",
       "2                    2  \n",
       "3                    1  \n",
       "4                    1  "
      ]
     },
     "execution_count": 32,
     "metadata": {},
     "output_type": "execute_result"
    }
   ],
   "source": [
    "df.head()"
   ]
  },
  {
   "cell_type": "code",
   "execution_count": 31,
   "id": "e24a8af8",
   "metadata": {},
   "outputs": [
    {
     "data": {
      "text/plain": [
       "array(['N', 'Y'], dtype=object)"
      ]
     },
     "execution_count": 31,
     "metadata": {},
     "output_type": "execute_result"
    }
   ],
   "source": [
    "df['ExerciseAngina'].unique()"
   ]
  },
  {
   "cell_type": "code",
   "execution_count": 36,
   "id": "6368ce2f",
   "metadata": {},
   "outputs": [],
   "source": [
    "angina_encoder = LabelEncoder()\n",
    "df['Excersise Angina Encoded'] = angina_encoder.fit_transform(df['ExerciseAngina'])"
   ]
  },
  {
   "cell_type": "code",
   "execution_count": 34,
   "id": "82160628",
   "metadata": {},
   "outputs": [
    {
     "data": {
      "text/plain": [
       "array(['Up', 'Flat', 'Down'], dtype=object)"
      ]
     },
     "execution_count": 34,
     "metadata": {},
     "output_type": "execute_result"
    }
   ],
   "source": [
    "df['ST_Slope'].unique()"
   ]
  },
  {
   "cell_type": "code",
   "execution_count": 37,
   "id": "948b7878",
   "metadata": {},
   "outputs": [],
   "source": [
    "st_slope_encoder = LabelEncoder()\n",
    "df['ST Slope Encoded'] = st_slope_encoder.fit_transform(df['ST_Slope'])"
   ]
  },
  {
   "cell_type": "code",
   "execution_count": 38,
   "id": "88a2ca26",
   "metadata": {},
   "outputs": [
    {
     "data": {
      "text/html": [
       "<div>\n",
       "<style scoped>\n",
       "    .dataframe tbody tr th:only-of-type {\n",
       "        vertical-align: middle;\n",
       "    }\n",
       "\n",
       "    .dataframe tbody tr th {\n",
       "        vertical-align: top;\n",
       "    }\n",
       "\n",
       "    .dataframe thead th {\n",
       "        text-align: right;\n",
       "    }\n",
       "</style>\n",
       "<table border=\"1\" class=\"dataframe\">\n",
       "  <thead>\n",
       "    <tr style=\"text-align: right;\">\n",
       "      <th></th>\n",
       "      <th>Age</th>\n",
       "      <th>Sex</th>\n",
       "      <th>ChestPainType</th>\n",
       "      <th>RestingBP</th>\n",
       "      <th>Cholesterol</th>\n",
       "      <th>FastingBS</th>\n",
       "      <th>RestingECG</th>\n",
       "      <th>MaxHR</th>\n",
       "      <th>ExerciseAngina</th>\n",
       "      <th>Oldpeak</th>\n",
       "      <th>ST_Slope</th>\n",
       "      <th>HeartDisease</th>\n",
       "      <th>Chest Pain Encoded</th>\n",
       "      <th>Resting ECG Encoded</th>\n",
       "      <th>Excersise Angina Encoded</th>\n",
       "      <th>ST Slope Encoded</th>\n",
       "    </tr>\n",
       "  </thead>\n",
       "  <tbody>\n",
       "    <tr>\n",
       "      <th>0</th>\n",
       "      <td>40</td>\n",
       "      <td>M</td>\n",
       "      <td>ATA</td>\n",
       "      <td>140.0</td>\n",
       "      <td>289.0</td>\n",
       "      <td>0</td>\n",
       "      <td>Normal</td>\n",
       "      <td>172</td>\n",
       "      <td>N</td>\n",
       "      <td>0.0</td>\n",
       "      <td>Up</td>\n",
       "      <td>0</td>\n",
       "      <td>1</td>\n",
       "      <td>1</td>\n",
       "      <td>0</td>\n",
       "      <td>2</td>\n",
       "    </tr>\n",
       "    <tr>\n",
       "      <th>1</th>\n",
       "      <td>49</td>\n",
       "      <td>F</td>\n",
       "      <td>NAP</td>\n",
       "      <td>160.0</td>\n",
       "      <td>180.0</td>\n",
       "      <td>0</td>\n",
       "      <td>Normal</td>\n",
       "      <td>156</td>\n",
       "      <td>N</td>\n",
       "      <td>1.0</td>\n",
       "      <td>Flat</td>\n",
       "      <td>1</td>\n",
       "      <td>2</td>\n",
       "      <td>1</td>\n",
       "      <td>0</td>\n",
       "      <td>1</td>\n",
       "    </tr>\n",
       "    <tr>\n",
       "      <th>2</th>\n",
       "      <td>37</td>\n",
       "      <td>M</td>\n",
       "      <td>ATA</td>\n",
       "      <td>130.0</td>\n",
       "      <td>283.0</td>\n",
       "      <td>0</td>\n",
       "      <td>ST</td>\n",
       "      <td>98</td>\n",
       "      <td>N</td>\n",
       "      <td>0.0</td>\n",
       "      <td>Up</td>\n",
       "      <td>0</td>\n",
       "      <td>1</td>\n",
       "      <td>2</td>\n",
       "      <td>0</td>\n",
       "      <td>2</td>\n",
       "    </tr>\n",
       "    <tr>\n",
       "      <th>3</th>\n",
       "      <td>48</td>\n",
       "      <td>F</td>\n",
       "      <td>ASY</td>\n",
       "      <td>138.0</td>\n",
       "      <td>214.0</td>\n",
       "      <td>0</td>\n",
       "      <td>Normal</td>\n",
       "      <td>108</td>\n",
       "      <td>Y</td>\n",
       "      <td>1.5</td>\n",
       "      <td>Flat</td>\n",
       "      <td>1</td>\n",
       "      <td>0</td>\n",
       "      <td>1</td>\n",
       "      <td>1</td>\n",
       "      <td>1</td>\n",
       "    </tr>\n",
       "    <tr>\n",
       "      <th>4</th>\n",
       "      <td>54</td>\n",
       "      <td>M</td>\n",
       "      <td>NAP</td>\n",
       "      <td>150.0</td>\n",
       "      <td>195.0</td>\n",
       "      <td>0</td>\n",
       "      <td>Normal</td>\n",
       "      <td>122</td>\n",
       "      <td>N</td>\n",
       "      <td>0.0</td>\n",
       "      <td>Up</td>\n",
       "      <td>0</td>\n",
       "      <td>2</td>\n",
       "      <td>1</td>\n",
       "      <td>0</td>\n",
       "      <td>2</td>\n",
       "    </tr>\n",
       "  </tbody>\n",
       "</table>\n",
       "</div>"
      ],
      "text/plain": [
       "   Age Sex ChestPainType  RestingBP  Cholesterol  FastingBS RestingECG  MaxHR  \\\n",
       "0   40   M           ATA      140.0        289.0          0     Normal    172   \n",
       "1   49   F           NAP      160.0        180.0          0     Normal    156   \n",
       "2   37   M           ATA      130.0        283.0          0         ST     98   \n",
       "3   48   F           ASY      138.0        214.0          0     Normal    108   \n",
       "4   54   M           NAP      150.0        195.0          0     Normal    122   \n",
       "\n",
       "  ExerciseAngina  Oldpeak ST_Slope  HeartDisease  Chest Pain Encoded  \\\n",
       "0              N      0.0       Up             0                   1   \n",
       "1              N      1.0     Flat             1                   2   \n",
       "2              N      0.0       Up             0                   1   \n",
       "3              Y      1.5     Flat             1                   0   \n",
       "4              N      0.0       Up             0                   2   \n",
       "\n",
       "   Resting ECG Encoded  Excersise Angina Encoded  ST Slope Encoded  \n",
       "0                    1                         0                 2  \n",
       "1                    1                         0                 1  \n",
       "2                    2                         0                 2  \n",
       "3                    1                         1                 1  \n",
       "4                    1                         0                 2  "
      ]
     },
     "execution_count": 38,
     "metadata": {},
     "output_type": "execute_result"
    }
   ],
   "source": [
    "df.head()"
   ]
  },
  {
   "cell_type": "code",
   "execution_count": 44,
   "id": "365b1848",
   "metadata": {},
   "outputs": [
    {
     "data": {
      "text/plain": [
       "ST Slope Encoded           -0.558771\n",
       "MaxHR                      -0.400421\n",
       "Chest Pain Encoded         -0.386828\n",
       "Resting ECG Encoded         0.057384\n",
       "Cholesterol                 0.094071\n",
       "RestingBP                   0.117938\n",
       "FastingBS                   0.267291\n",
       "Age                         0.282039\n",
       "Oldpeak                     0.403951\n",
       "Excersise Angina Encoded    0.494282\n",
       "HeartDisease                1.000000\n",
       "Name: HeartDisease, dtype: float64"
      ]
     },
     "execution_count": 44,
     "metadata": {},
     "output_type": "execute_result"
    }
   ],
   "source": [
    "df.corr()['HeartDisease'].sort_values()"
   ]
  },
  {
   "cell_type": "code",
   "execution_count": 50,
   "id": "436970af",
   "metadata": {},
   "outputs": [
    {
     "data": {
      "text/plain": [
       "<AxesSubplot:>"
      ]
     },
     "execution_count": 50,
     "metadata": {},
     "output_type": "execute_result"
    },
    {
     "data": {
      "image/png": "[encoded data removed]",
      "text/plain": [
       "<Figure size 864x576 with 2 Axes>"
      ]
     },
     "metadata": {},
     "output_type": "display_data"
    }
   ],
   "source": [
    "plt.figure(figsize=(12, 8))\n",
    "sns.heatmap(df.corr(), annot = True)"
   ]
  },
  {
   "cell_type": "code",
   "execution_count": 47,
   "id": "6aef6f44",
   "metadata": {},
   "outputs": [],
   "source": [
    "df = pd.concat([df, sex], axis = 1)"
   ]
  },
  {
   "cell_type": "code",
   "execution_count": 48,
   "id": "4183214e",
   "metadata": {},
   "outputs": [
    {
     "data": {
      "text/html": [
       "<div>\n",
       "<style scoped>\n",
       "    .dataframe tbody tr th:only-of-type {\n",
       "        vertical-align: middle;\n",
       "    }\n",
       "\n",
       "    .dataframe tbody tr th {\n",
       "        vertical-align: top;\n",
       "    }\n",
       "\n",
       "    .dataframe thead th {\n",
       "        text-align: right;\n",
       "    }\n",
       "</style>\n",
       "<table border=\"1\" class=\"dataframe\">\n",
       "  <thead>\n",
       "    <tr style=\"text-align: right;\">\n",
       "      <th></th>\n",
       "      <th>Age</th>\n",
       "      <th>Sex</th>\n",
       "      <th>ChestPainType</th>\n",
       "      <th>RestingBP</th>\n",
       "      <th>Cholesterol</th>\n",
       "      <th>FastingBS</th>\n",
       "      <th>RestingECG</th>\n",
       "      <th>MaxHR</th>\n",
       "      <th>ExerciseAngina</th>\n",
       "      <th>Oldpeak</th>\n",
       "      <th>ST_Slope</th>\n",
       "      <th>HeartDisease</th>\n",
       "      <th>Chest Pain Encoded</th>\n",
       "      <th>Resting ECG Encoded</th>\n",
       "      <th>Excersise Angina Encoded</th>\n",
       "      <th>ST Slope Encoded</th>\n",
       "      <th>M</th>\n",
       "    </tr>\n",
       "  </thead>\n",
       "  <tbody>\n",
       "    <tr>\n",
       "      <th>0</th>\n",
       "      <td>40</td>\n",
       "      <td>M</td>\n",
       "      <td>ATA</td>\n",
       "      <td>140.0</td>\n",
       "      <td>289.0</td>\n",
       "      <td>0</td>\n",
       "      <td>Normal</td>\n",
       "      <td>172</td>\n",
       "      <td>N</td>\n",
       "      <td>0.0</td>\n",
       "      <td>Up</td>\n",
       "      <td>0</td>\n",
       "      <td>1</td>\n",
       "      <td>1</td>\n",
       "      <td>0</td>\n",
       "      <td>2</td>\n",
       "      <td>1</td>\n",
       "    </tr>\n",
       "    <tr>\n",
       "      <th>1</th>\n",
       "      <td>49</td>\n",
       "      <td>F</td>\n",
       "      <td>NAP</td>\n",
       "      <td>160.0</td>\n",
       "      <td>180.0</td>\n",
       "      <td>0</td>\n",
       "      <td>Normal</td>\n",
       "      <td>156</td>\n",
       "      <td>N</td>\n",
       "      <td>1.0</td>\n",
       "      <td>Flat</td>\n",
       "      <td>1</td>\n",
       "      <td>2</td>\n",
       "      <td>1</td>\n",
       "      <td>0</td>\n",
       "      <td>1</td>\n",
       "      <td>0</td>\n",
       "    </tr>\n",
       "    <tr>\n",
       "      <th>2</th>\n",
       "      <td>37</td>\n",
       "      <td>M</td>\n",
       "      <td>ATA</td>\n",
       "      <td>130.0</td>\n",
       "      <td>283.0</td>\n",
       "      <td>0</td>\n",
       "      <td>ST</td>\n",
       "      <td>98</td>\n",
       "      <td>N</td>\n",
       "      <td>0.0</td>\n",
       "      <td>Up</td>\n",
       "      <td>0</td>\n",
       "      <td>1</td>\n",
       "      <td>2</td>\n",
       "      <td>0</td>\n",
       "      <td>2</td>\n",
       "      <td>1</td>\n",
       "    </tr>\n",
       "    <tr>\n",
       "      <th>3</th>\n",
       "      <td>48</td>\n",
       "      <td>F</td>\n",
       "      <td>ASY</td>\n",
       "      <td>138.0</td>\n",
       "      <td>214.0</td>\n",
       "      <td>0</td>\n",
       "      <td>Normal</td>\n",
       "      <td>108</td>\n",
       "      <td>Y</td>\n",
       "      <td>1.5</td>\n",
       "      <td>Flat</td>\n",
       "      <td>1</td>\n",
       "      <td>0</td>\n",
       "      <td>1</td>\n",
       "      <td>1</td>\n",
       "      <td>1</td>\n",
       "      <td>0</td>\n",
       "    </tr>\n",
       "    <tr>\n",
       "      <th>4</th>\n",
       "      <td>54</td>\n",
       "      <td>M</td>\n",
       "      <td>NAP</td>\n",
       "      <td>150.0</td>\n",
       "      <td>195.0</td>\n",
       "      <td>0</td>\n",
       "      <td>Normal</td>\n",
       "      <td>122</td>\n",
       "      <td>N</td>\n",
       "      <td>0.0</td>\n",
       "      <td>Up</td>\n",
       "      <td>0</td>\n",
       "      <td>2</td>\n",
       "      <td>1</td>\n",
       "      <td>0</td>\n",
       "      <td>2</td>\n",
       "      <td>1</td>\n",
       "    </tr>\n",
       "  </tbody>\n",
       "</table>\n",
       "</div>"
      ],
      "text/plain": [
       "   Age Sex ChestPainType  RestingBP  Cholesterol  FastingBS RestingECG  MaxHR  \\\n",
       "0   40   M           ATA      140.0        289.0          0     Normal    172   \n",
       "1   49   F           NAP      160.0        180.0          0     Normal    156   \n",
       "2   37   M           ATA      130.0        283.0          0         ST     98   \n",
       "3   48   F           ASY      138.0        214.0          0     Normal    108   \n",
       "4   54   M           NAP      150.0        195.0          0     Normal    122   \n",
       "\n",
       "  ExerciseAngina  Oldpeak ST_Slope  HeartDisease  Chest Pain Encoded  \\\n",
       "0              N      0.0       Up             0                   1   \n",
       "1              N      1.0     Flat             1                   2   \n",
       "2              N      0.0       Up             0                   1   \n",
       "3              Y      1.5     Flat             1                   0   \n",
       "4              N      0.0       Up             0                   2   \n",
       "\n",
       "   Resting ECG Encoded  Excersise Angina Encoded  ST Slope Encoded  M  \n",
       "0                    1                         0                 2  1  \n",
       "1                    1                         0                 1  0  \n",
       "2                    2                         0                 2  1  \n",
       "3                    1                         1                 1  0  \n",
       "4                    1                         0                 2  1  "
      ]
     },
     "execution_count": 48,
     "metadata": {},
     "output_type": "execute_result"
    }
   ],
   "source": [
    "df.head()"
   ]
  },
  {
   "cell_type": "code",
   "execution_count": 52,
   "id": "c0d42ea8",
   "metadata": {},
   "outputs": [],
   "source": [
    "df.rename(columns = {'M':'Male Encoded'}, inplace = True)"
   ]
  },
  {
   "cell_type": "code",
   "execution_count": 53,
   "id": "e05d0a2b",
   "metadata": {},
   "outputs": [
    {
     "data": {
      "text/html": [
       "<div>\n",
       "<style scoped>\n",
       "    .dataframe tbody tr th:only-of-type {\n",
       "        vertical-align: middle;\n",
       "    }\n",
       "\n",
       "    .dataframe tbody tr th {\n",
       "        vertical-align: top;\n",
       "    }\n",
       "\n",
       "    .dataframe thead th {\n",
       "        text-align: right;\n",
       "    }\n",
       "</style>\n",
       "<table border=\"1\" class=\"dataframe\">\n",
       "  <thead>\n",
       "    <tr style=\"text-align: right;\">\n",
       "      <th></th>\n",
       "      <th>Age</th>\n",
       "      <th>Sex</th>\n",
       "      <th>ChestPainType</th>\n",
       "      <th>RestingBP</th>\n",
       "      <th>Cholesterol</th>\n",
       "      <th>FastingBS</th>\n",
       "      <th>RestingECG</th>\n",
       "      <th>MaxHR</th>\n",
       "      <th>ExerciseAngina</th>\n",
       "      <th>Oldpeak</th>\n",
       "      <th>ST_Slope</th>\n",
       "      <th>HeartDisease</th>\n",
       "      <th>Chest Pain Encoded</th>\n",
       "      <th>Resting ECG Encoded</th>\n",
       "      <th>Excersise Angina Encoded</th>\n",
       "      <th>ST Slope Encoded</th>\n",
       "      <th>Male Encoded</th>\n",
       "    </tr>\n",
       "  </thead>\n",
       "  <tbody>\n",
       "    <tr>\n",
       "      <th>0</th>\n",
       "      <td>40</td>\n",
       "      <td>M</td>\n",
       "      <td>ATA</td>\n",
       "      <td>140.0</td>\n",
       "      <td>289.0</td>\n",
       "      <td>0</td>\n",
       "      <td>Normal</td>\n",
       "      <td>172</td>\n",
       "      <td>N</td>\n",
       "      <td>0.0</td>\n",
       "      <td>Up</td>\n",
       "      <td>0</td>\n",
       "      <td>1</td>\n",
       "      <td>1</td>\n",
       "      <td>0</td>\n",
       "      <td>2</td>\n",
       "      <td>1</td>\n",
       "    </tr>\n",
       "    <tr>\n",
       "      <th>1</th>\n",
       "      <td>49</td>\n",
       "      <td>F</td>\n",
       "      <td>NAP</td>\n",
       "      <td>160.0</td>\n",
       "      <td>180.0</td>\n",
       "      <td>0</td>\n",
       "      <td>Normal</td>\n",
       "      <td>156</td>\n",
       "      <td>N</td>\n",
       "      <td>1.0</td>\n",
       "      <td>Flat</td>\n",
       "      <td>1</td>\n",
       "      <td>2</td>\n",
       "      <td>1</td>\n",
       "      <td>0</td>\n",
       "      <td>1</td>\n",
       "      <td>0</td>\n",
       "    </tr>\n",
       "    <tr>\n",
       "      <th>2</th>\n",
       "      <td>37</td>\n",
       "      <td>M</td>\n",
       "      <td>ATA</td>\n",
       "      <td>130.0</td>\n",
       "      <td>283.0</td>\n",
       "      <td>0</td>\n",
       "      <td>ST</td>\n",
       "      <td>98</td>\n",
       "      <td>N</td>\n",
       "      <td>0.0</td>\n",
       "      <td>Up</td>\n",
       "      <td>0</td>\n",
       "      <td>1</td>\n",
       "      <td>2</td>\n",
       "      <td>0</td>\n",
       "      <td>2</td>\n",
       "      <td>1</td>\n",
       "    </tr>\n",
       "    <tr>\n",
       "      <th>3</th>\n",
       "      <td>48</td>\n",
       "      <td>F</td>\n",
       "      <td>ASY</td>\n",
       "      <td>138.0</td>\n",
       "      <td>214.0</td>\n",
       "      <td>0</td>\n",
       "      <td>Normal</td>\n",
       "      <td>108</td>\n",
       "      <td>Y</td>\n",
       "      <td>1.5</td>\n",
       "      <td>Flat</td>\n",
       "      <td>1</td>\n",
       "      <td>0</td>\n",
       "      <td>1</td>\n",
       "      <td>1</td>\n",
       "      <td>1</td>\n",
       "      <td>0</td>\n",
       "    </tr>\n",
       "    <tr>\n",
       "      <th>4</th>\n",
       "      <td>54</td>\n",
       "      <td>M</td>\n",
       "      <td>NAP</td>\n",
       "      <td>150.0</td>\n",
       "      <td>195.0</td>\n",
       "      <td>0</td>\n",
       "      <td>Normal</td>\n",
       "      <td>122</td>\n",
       "      <td>N</td>\n",
       "      <td>0.0</td>\n",
       "      <td>Up</td>\n",
       "      <td>0</td>\n",
       "      <td>2</td>\n",
       "      <td>1</td>\n",
       "      <td>0</td>\n",
       "      <td>2</td>\n",
       "      <td>1</td>\n",
       "    </tr>\n",
       "  </tbody>\n",
       "</table>\n",
       "</div>"
      ],
      "text/plain": [
       "   Age Sex ChestPainType  RestingBP  Cholesterol  FastingBS RestingECG  MaxHR  \\\n",
       "0   40   M           ATA      140.0        289.0          0     Normal    172   \n",
       "1   49   F           NAP      160.0        180.0          0     Normal    156   \n",
       "2   37   M           ATA      130.0        283.0          0         ST     98   \n",
       "3   48   F           ASY      138.0        214.0          0     Normal    108   \n",
       "4   54   M           NAP      150.0        195.0          0     Normal    122   \n",
       "\n",
       "  ExerciseAngina  Oldpeak ST_Slope  HeartDisease  Chest Pain Encoded  \\\n",
       "0              N      0.0       Up             0                   1   \n",
       "1              N      1.0     Flat             1                   2   \n",
       "2              N      0.0       Up             0                   1   \n",
       "3              Y      1.5     Flat             1                   0   \n",
       "4              N      0.0       Up             0                   2   \n",
       "\n",
       "   Resting ECG Encoded  Excersise Angina Encoded  ST Slope Encoded  \\\n",
       "0                    1                         0                 2   \n",
       "1                    1                         0                 1   \n",
       "2                    2                         0                 2   \n",
       "3                    1                         1                 1   \n",
       "4                    1                         0                 2   \n",
       "\n",
       "   Male Encoded  \n",
       "0             1  \n",
       "1             0  \n",
       "2             1  \n",
       "3             0  \n",
       "4             1  "
      ]
     },
     "execution_count": 53,
     "metadata": {},
     "output_type": "execute_result"
    }
   ],
   "source": [
    "df.head()"
   ]
  },
  {
   "cell_type": "code",
   "execution_count": 54,
   "id": "bed5c9d7",
   "metadata": {},
   "outputs": [
    {
     "data": {
      "text/plain": [
       "Index(['Age', 'Sex', 'ChestPainType', 'RestingBP', 'Cholesterol', 'FastingBS',\n",
       "       'RestingECG', 'MaxHR', 'ExerciseAngina', 'Oldpeak', 'ST_Slope',\n",
       "       'HeartDisease', 'Chest Pain Encoded', 'Resting ECG Encoded',\n",
       "       'Excersise Angina Encoded', 'ST Slope Encoded', 'Male Encoded'],\n",
       "      dtype='object')"
      ]
     },
     "execution_count": 54,
     "metadata": {},
     "output_type": "execute_result"
    }
   ],
   "source": [
    "df.columns"
   ]
  },
  {
   "cell_type": "code",
   "execution_count": 56,
   "id": "91ee9053",
   "metadata": {},
   "outputs": [],
   "source": [
    "X = df[['Age', 'RestingBP', 'Cholesterol', 'FastingBS', 'MaxHR', 'Oldpeak',\n",
    "       'Chest Pain Encoded', 'Resting ECG Encoded', 'Excersise Angina Encoded', \n",
    "        'ST Slope Encoded', 'Male Encoded']]\n",
    "\n",
    "y = df['HeartDisease']"
   ]
  },
  {
   "cell_type": "code",
   "execution_count": 57,
   "id": "3620662f",
   "metadata": {},
   "outputs": [
    {
     "data": {
      "text/plain": [
       "(918, 11)"
      ]
     },
     "execution_count": 57,
     "metadata": {},
     "output_type": "execute_result"
    }
   ],
   "source": [
    "X.shape"
   ]
  },
  {
   "cell_type": "code",
   "execution_count": 58,
   "id": "ae18ab43",
   "metadata": {},
   "outputs": [],
   "source": [
    "from sklearn.linear_model import LogisticRegression"
   ]
  },
  {
   "cell_type": "code",
   "execution_count": 59,
   "id": "a0919b33",
   "metadata": {},
   "outputs": [],
   "source": [
    "lr = LogisticRegression()"
   ]
  },
  {
   "cell_type": "code",
   "execution_count": 60,
   "id": "a42a41f5",
   "metadata": {},
   "outputs": [],
   "source": [
    "from sklearn.model_selection import cross_val_score"
   ]
  },
  {
   "cell_type": "code",
   "execution_count": 61,
   "id": "9b4fcd6c",
   "metadata": {},
   "outputs": [
    {
     "name": "stderr",
     "output_type": "stream",
     "text": [
      "/Volumes/Kriti-1/Applications/anaconda3/lib/python3.9/site-packages/sklearn/linear_model/_logistic.py:763: ConvergenceWarning: lbfgs failed to converge (status=1):\n",
      "STOP: TOTAL NO. of ITERATIONS REACHED LIMIT.\n",
      "\n",
      "Increase the number of iterations (max_iter) or scale the data as shown in:\n",
      "    https://scikit-learn.org/stable/modules/preprocessing.html\n",
      "Please also refer to the documentation for alternative solver options:\n",
      "    https://scikit-learn.org/stable/modules/linear_model.html#logistic-regression\n",
      "  n_iter_i = _check_optimize_result(\n",
      "/Volumes/Kriti-1/Applications/anaconda3/lib/python3.9/site-packages/sklearn/linear_model/_logistic.py:763: ConvergenceWarning: lbfgs failed to converge (status=1):\n",
      "STOP: TOTAL NO. of ITERATIONS REACHED LIMIT.\n",
      "\n",
      "Increase the number of iterations (max_iter) or scale the data as shown in:\n",
      "    https://scikit-learn.org/stable/modules/preprocessing.html\n",
      "Please also refer to the documentation for alternative solver options:\n",
      "    https://scikit-learn.org/stable/modules/linear_model.html#logistic-regression\n",
      "  n_iter_i = _check_optimize_result(\n",
      "/Volumes/Kriti-1/Applications/anaconda3/lib/python3.9/site-packages/sklearn/linear_model/_logistic.py:763: ConvergenceWarning: lbfgs failed to converge (status=1):\n",
      "STOP: TOTAL NO. of ITERATIONS REACHED LIMIT.\n",
      "\n",
      "Increase the number of iterations (max_iter) or scale the data as shown in:\n",
      "    https://scikit-learn.org/stable/modules/preprocessing.html\n",
      "Please also refer to the documentation for alternative solver options:\n",
      "    https://scikit-learn.org/stable/modules/linear_model.html#logistic-regression\n",
      "  n_iter_i = _check_optimize_result(\n",
      "/Volumes/Kriti-1/Applications/anaconda3/lib/python3.9/site-packages/sklearn/linear_model/_logistic.py:763: ConvergenceWarning: lbfgs failed to converge (status=1):\n",
      "STOP: TOTAL NO. of ITERATIONS REACHED LIMIT.\n",
      "\n",
      "Increase the number of iterations (max_iter) or scale the data as shown in:\n",
      "    https://scikit-learn.org/stable/modules/preprocessing.html\n",
      "Please also refer to the documentation for alternative solver options:\n",
      "    https://scikit-learn.org/stable/modules/linear_model.html#logistic-regression\n",
      "  n_iter_i = _check_optimize_result(\n",
      "/Volumes/Kriti-1/Applications/anaconda3/lib/python3.9/site-packages/sklearn/linear_model/_logistic.py:763: ConvergenceWarning: lbfgs failed to converge (status=1):\n",
      "STOP: TOTAL NO. of ITERATIONS REACHED LIMIT.\n",
      "\n",
      "Increase the number of iterations (max_iter) or scale the data as shown in:\n",
      "    https://scikit-learn.org/stable/modules/preprocessing.html\n",
      "Please also refer to the documentation for alternative solver options:\n",
      "    https://scikit-learn.org/stable/modules/linear_model.html#logistic-regression\n",
      "  n_iter_i = _check_optimize_result(\n"
     ]
    },
    {
     "data": {
      "text/plain": [
       "array([0.85326087, 0.84782609, 0.8423913 , 0.84153005, 0.75409836])"
      ]
     },
     "execution_count": 61,
     "metadata": {},
     "output_type": "execute_result"
    }
   ],
   "source": [
    "cross_val_score(LogisticRegression(), X, y, cv = 5, scoring = 'accuracy')"
   ]
  },
  {
   "cell_type": "code",
   "execution_count": 63,
   "id": "ac770a40",
   "metadata": {},
   "outputs": [
    {
     "name": "stderr",
     "output_type": "stream",
     "text": [
      "/Volumes/Kriti-1/Applications/anaconda3/lib/python3.9/site-packages/sklearn/linear_model/_logistic.py:763: ConvergenceWarning: lbfgs failed to converge (status=1):\n",
      "STOP: TOTAL NO. of ITERATIONS REACHED LIMIT.\n",
      "\n",
      "Increase the number of iterations (max_iter) or scale the data as shown in:\n",
      "    https://scikit-learn.org/stable/modules/preprocessing.html\n",
      "Please also refer to the documentation for alternative solver options:\n",
      "    https://scikit-learn.org/stable/modules/linear_model.html#logistic-regression\n",
      "  n_iter_i = _check_optimize_result(\n",
      "/Volumes/Kriti-1/Applications/anaconda3/lib/python3.9/site-packages/sklearn/linear_model/_logistic.py:763: ConvergenceWarning: lbfgs failed to converge (status=1):\n",
      "STOP: TOTAL NO. of ITERATIONS REACHED LIMIT.\n",
      "\n",
      "Increase the number of iterations (max_iter) or scale the data as shown in:\n",
      "    https://scikit-learn.org/stable/modules/preprocessing.html\n",
      "Please also refer to the documentation for alternative solver options:\n",
      "    https://scikit-learn.org/stable/modules/linear_model.html#logistic-regression\n",
      "  n_iter_i = _check_optimize_result(\n",
      "/Volumes/Kriti-1/Applications/anaconda3/lib/python3.9/site-packages/sklearn/linear_model/_logistic.py:763: ConvergenceWarning: lbfgs failed to converge (status=1):\n",
      "STOP: TOTAL NO. of ITERATIONS REACHED LIMIT.\n",
      "\n",
      "Increase the number of iterations (max_iter) or scale the data as shown in:\n",
      "    https://scikit-learn.org/stable/modules/preprocessing.html\n",
      "Please also refer to the documentation for alternative solver options:\n",
      "    https://scikit-learn.org/stable/modules/linear_model.html#logistic-regression\n",
      "  n_iter_i = _check_optimize_result(\n",
      "/Volumes/Kriti-1/Applications/anaconda3/lib/python3.9/site-packages/sklearn/linear_model/_logistic.py:763: ConvergenceWarning: lbfgs failed to converge (status=1):\n",
      "STOP: TOTAL NO. of ITERATIONS REACHED LIMIT.\n",
      "\n",
      "Increase the number of iterations (max_iter) or scale the data as shown in:\n",
      "    https://scikit-learn.org/stable/modules/preprocessing.html\n",
      "Please also refer to the documentation for alternative solver options:\n",
      "    https://scikit-learn.org/stable/modules/linear_model.html#logistic-regression\n",
      "  n_iter_i = _check_optimize_result(\n",
      "/Volumes/Kriti-1/Applications/anaconda3/lib/python3.9/site-packages/sklearn/linear_model/_logistic.py:763: ConvergenceWarning: lbfgs failed to converge (status=1):\n",
      "STOP: TOTAL NO. of ITERATIONS REACHED LIMIT.\n",
      "\n",
      "Increase the number of iterations (max_iter) or scale the data as shown in:\n",
      "    https://scikit-learn.org/stable/modules/preprocessing.html\n",
      "Please also refer to the documentation for alternative solver options:\n",
      "    https://scikit-learn.org/stable/modules/linear_model.html#logistic-regression\n",
      "  n_iter_i = _check_optimize_result(\n"
     ]
    }
   ],
   "source": [
    "log_reg_accuracy = cross_val_score(LogisticRegression(), X, y, cv = 5, scoring = 'accuracy').mean()"
   ]
  },
  {
   "cell_type": "code",
   "execution_count": 64,
   "id": "618fc42f",
   "metadata": {},
   "outputs": [],
   "source": [
    "from sklearn.neighbors import KNeighborsClassifier"
   ]
  },
  {
   "cell_type": "code",
   "execution_count": 65,
   "id": "f35f7cdf",
   "metadata": {},
   "outputs": [
    {
     "data": {
      "text/plain": [
       "array([0.63043478, 0.69021739, 0.6576087 , 0.6284153 , 0.61202186])"
      ]
     },
     "execution_count": 65,
     "metadata": {},
     "output_type": "execute_result"
    }
   ],
   "source": [
    "cross_val_score(KNeighborsClassifier(), X, y, cv = 5, scoring = 'accuracy')"
   ]
  },
  {
   "cell_type": "code",
   "execution_count": 66,
   "id": "f20772e9",
   "metadata": {},
   "outputs": [
    {
     "data": {
      "text/plain": [
       "0.6437396056070325"
      ]
     },
     "execution_count": 66,
     "metadata": {},
     "output_type": "execute_result"
    }
   ],
   "source": [
    "cross_val_score(KNeighborsClassifier(), X, y, cv = 5, scoring = 'accuracy').mean()"
   ]
  },
  {
   "cell_type": "code",
   "execution_count": 71,
   "id": "8c9aa7c0",
   "metadata": {},
   "outputs": [
    {
     "data": {
      "text/plain": [
       "918"
      ]
     },
     "execution_count": 71,
     "metadata": {},
     "output_type": "execute_result"
    }
   ],
   "source": [
    "X.shape[0]"
   ]
  },
  {
   "cell_type": "code",
   "execution_count": 69,
   "id": "0852892c",
   "metadata": {},
   "outputs": [
    {
     "data": {
      "text/plain": [
       "183.6"
      ]
     },
     "execution_count": 69,
     "metadata": {},
     "output_type": "execute_result"
    }
   ],
   "source": [
    "X.shape[0] / 5"
   ]
  },
  {
   "cell_type": "code",
   "execution_count": 70,
   "id": "5bd4df30",
   "metadata": {},
   "outputs": [
    {
     "data": {
      "text/plain": [
       "734.4"
      ]
     },
     "execution_count": 70,
     "metadata": {},
     "output_type": "execute_result"
    }
   ],
   "source": [
    "183.6 * 4"
   ]
  },
  {
   "cell_type": "code",
   "execution_count": 75,
   "id": "1bfacf60",
   "metadata": {},
   "outputs": [],
   "source": [
    "ks = list(range(1, 500, 2))"
   ]
  },
  {
   "cell_type": "code",
   "execution_count": 76,
   "id": "7430a803",
   "metadata": {
    "scrolled": true
   },
   "outputs": [
    {
     "name": "stdout",
     "output_type": "stream",
     "text": [
      "Accuracy with 1 neighbors: 0.6165775718698029\n",
      "Accuracy with 3 neighbors: 0.632864100736517\n",
      "Accuracy with 5 neighbors: 0.6437396056070325\n",
      "Accuracy with 7 neighbors: 0.6470182941316228\n",
      "Accuracy with 9 neighbors: 0.6524827750059398\n",
      "Accuracy with 11 neighbors: 0.6623010216203373\n",
      "Accuracy with 13 neighbors: 0.6666607270135424\n",
      "Accuracy with 15 neighbors: 0.6688287004038964\n",
      "Accuracy with 17 neighbors: 0.6623188405797101\n",
      "Accuracy with 19 neighbors: 0.66775956284153\n",
      "Accuracy with 21 neighbors: 0.6688702779757663\n",
      "Accuracy with 23 neighbors: 0.6568781183178902\n",
      "Accuracy with 25 neighbors: 0.664528391541934\n",
      "Accuracy with 27 neighbors: 0.6601627464956048\n",
      "Accuracy with 29 neighbors: 0.6710382513661203\n",
      "Accuracy with 31 neighbors: 0.668864338322642\n",
      "Accuracy with 33 neighbors: 0.6710204324067475\n",
      "Accuracy with 35 neighbors: 0.6775837491090521\n",
      "Accuracy with 37 neighbors: 0.6830304110239963\n",
      "Accuracy with 39 neighbors: 0.6841233071988595\n",
      "Accuracy with 41 neighbors: 0.6863031598954621\n",
      "Accuracy with 43 neighbors: 0.6830422903302448\n",
      "Accuracy with 45 neighbors: 0.6775837491090521\n",
      "Accuracy with 47 neighbors: 0.6819375148491329\n",
      "Accuracy with 49 neighbors: 0.6764670943216917\n",
      "Accuracy with 51 neighbors: 0.6710263720598717\n",
      "Accuracy with 53 neighbors: 0.6699097172725113\n",
      "Accuracy with 55 neighbors: 0.671008553100499\n",
      "Accuracy with 57 neighbors: 0.6764492753623188\n",
      "Accuracy with 59 neighbors: 0.675368258493704\n",
      "Accuracy with 61 neighbors: 0.6830125920646235\n",
      "Accuracy with 63 neighbors: 0.6753801377999524\n",
      "Accuracy with 65 neighbors: 0.6721192682347352\n",
      "Accuracy with 67 neighbors: 0.6732062247564743\n",
      "Accuracy with 69 neighbors: 0.6677417438821573\n",
      "Accuracy with 71 neighbors: 0.67320028510335\n",
      "Accuracy with 73 neighbors: 0.6688465193632691\n",
      "Accuracy with 75 neighbors: 0.666672606319791\n",
      "Accuracy with 77 neighbors: 0.6721252078878595\n",
      "Accuracy with 79 neighbors: 0.6688465193632691\n",
      "Accuracy with 81 neighbors: 0.6775837491090521\n",
      "Accuracy with 83 neighbors: 0.6666844856260393\n",
      "Accuracy with 85 neighbors: 0.6666844856260395\n",
      "Accuracy with 87 neighbors: 0.6677714421477786\n",
      "Accuracy with 89 neighbors: 0.6666785459729152\n",
      "Accuracy with 91 neighbors: 0.6645165122356855\n",
      "Accuracy with 93 neighbors: 0.6655975291043003\n",
      "Accuracy with 95 neighbors: 0.6601271085768591\n",
      "Accuracy with 97 neighbors: 0.6634117367545735\n",
      "Accuracy with 99 neighbors: 0.6710323117129959\n",
      "Accuracy with 101 neighbors: 0.6688524590163935\n",
      "Accuracy with 103 neighbors: 0.6688583986695177\n",
      "Accuracy with 105 neighbors: 0.6699394155381325\n",
      "Accuracy with 107 neighbors: 0.6623307198859587\n",
      "Accuracy with 109 neighbors: 0.6634176764076978\n",
      "Accuracy with 111 neighbors: 0.6557911617961512\n",
      "Accuracy with 113 neighbors: 0.6590639106676169\n",
      "Accuracy with 115 neighbors: 0.6623366595390829\n",
      "Accuracy with 117 neighbors: 0.6623188405797101\n",
      "Accuracy with 119 neighbors: 0.6655856497980517\n",
      "Accuracy with 121 neighbors: 0.6644868139700641\n",
      "Accuracy with 123 neighbors: 0.662312900926586\n",
      "Accuracy with 125 neighbors: 0.6601330482299833\n",
      "Accuracy with 127 neighbors: 0.6546923259681636\n",
      "Accuracy with 129 neighbors: 0.6557792824899027\n",
      "Accuracy with 131 neighbors: 0.6590460917082442\n",
      "Accuracy with 133 neighbors: 0.6557852221430268\n",
      "Accuracy with 135 neighbors: 0.656872178664766\n",
      "Accuracy with 137 neighbors: 0.6590639106676169\n",
      "Accuracy with 139 neighbors: 0.6612259444048467\n",
      "Accuracy with 141 neighbors: 0.6623247802328345\n",
      "Accuracy with 143 neighbors: 0.6645046329294371\n",
      "Accuracy with 145 neighbors: 0.6655915894511761\n",
      "Accuracy with 147 neighbors: 0.6623247802328345\n",
      "Accuracy with 149 neighbors: 0.6612497030173439\n",
      "Accuracy with 151 neighbors: 0.6568899976241388\n",
      "Accuracy with 153 neighbors: 0.6579769541458779\n",
      "Accuracy with 155 neighbors: 0.6612437633642194\n",
      "Accuracy with 157 neighbors: 0.6601627464956048\n",
      "Accuracy with 159 neighbors: 0.6655975291043003\n",
      "Accuracy with 161 neighbors: 0.6656034687574245\n",
      "Accuracy with 163 neighbors: 0.6666963649322879\n",
      "Accuracy with 165 neighbors: 0.6601568068424803\n",
      "Accuracy with 167 neighbors: 0.6623425991922071\n",
      "Accuracy with 169 neighbors: 0.668864338322642\n",
      "Accuracy with 171 neighbors: 0.6645224518888097\n",
      "Accuracy with 173 neighbors: 0.668888096935139\n",
      "Accuracy with 175 neighbors: 0.6601627464956046\n",
      "Accuracy with 177 neighbors: 0.6601508671893562\n",
      "Accuracy with 179 neighbors: 0.6623307198859587\n",
      "Accuracy with 181 neighbors: 0.6612497030173439\n",
      "Accuracy with 183 neighbors: 0.6601568068424803\n",
      "Accuracy with 185 neighbors: 0.6568840579710145\n",
      "Accuracy with 187 neighbors: 0.6568840579710145\n",
      "Accuracy with 189 neighbors: 0.6590698503207413\n",
      "Accuracy with 191 neighbors: 0.6612200047517225\n",
      "Accuracy with 193 neighbors: 0.6633998574483251\n",
      "Accuracy with 195 neighbors: 0.6644868139700641\n",
      "Accuracy with 197 neighbors: 0.6623069612734616\n",
      "Accuracy with 199 neighbors: 0.6612140650985983\n",
      "Accuracy with 201 neighbors: 0.6623010216203374\n",
      "Accuracy with 203 neighbors: 0.6579472558802566\n",
      "Accuracy with 205 neighbors: 0.656872178664766\n",
      "Accuracy with 207 neighbors: 0.6612200047517225\n",
      "Accuracy with 209 neighbors: 0.6623069612734617\n",
      "Accuracy with 211 neighbors: 0.6633998574483251\n",
      "Accuracy with 213 neighbors: 0.6601389878831077\n",
      "Accuracy with 215 neighbors: 0.6557733428367782\n",
      "Accuracy with 217 neighbors: 0.6546863863150392\n",
      "Accuracy with 219 neighbors: 0.6514136374435734\n",
      "Accuracy with 221 neighbors: 0.6514195770966976\n",
      "Accuracy with 223 neighbors: 0.6579413162271324\n",
      "Accuracy with 225 neighbors: 0.6557674031836541\n",
      "Accuracy with 227 neighbors: 0.6579531955333808\n",
      "Accuracy with 229 neighbors: 0.6579531955333808\n",
      "Accuracy with 231 neighbors: 0.6601271085768591\n",
      "Accuracy with 233 neighbors: 0.6612200047517225\n",
      "Accuracy with 235 neighbors: 0.6623069612734616\n",
      "Accuracy with 237 neighbors: 0.6644868139700641\n",
      "Accuracy with 239 neighbors: 0.6623129009265859\n",
      "Accuracy with 241 neighbors: 0.6655856497980519\n",
      "Accuracy with 243 neighbors: 0.6590460917082442\n",
      "Accuracy with 245 neighbors: 0.6579591351865052\n",
      "Accuracy with 247 neighbors: 0.6546982656212876\n",
      "Accuracy with 249 neighbors: 0.6579650748396293\n",
      "Accuracy with 251 neighbors: 0.6557852221430268\n",
      "Accuracy with 253 neighbors: 0.6546982656212877\n",
      "Accuracy with 255 neighbors: 0.6557911617961512\n",
      "Accuracy with 257 neighbors: 0.6568781183178902\n",
      "Accuracy with 259 neighbors: 0.6568840579710145\n",
      "Accuracy with 261 neighbors: 0.6546982656212876\n",
      "Accuracy with 263 neighbors: 0.6525243525778095\n",
      "Accuracy with 265 neighbors: 0.6514433357091945\n",
      "Accuracy with 267 neighbors: 0.6525302922309336\n",
      "Accuracy with 269 neighbors: 0.6514433357091945\n",
      "Accuracy with 271 neighbors: 0.6547160845806606\n",
      "Accuracy with 273 neighbors: 0.6558030411023996\n",
      "Accuracy with 275 neighbors: 0.6503563791874555\n",
      "Accuracy with 277 neighbors: 0.6514492753623189\n",
      "Accuracy with 279 neighbors: 0.653623188405797\n",
      "Accuracy with 281 neighbors: 0.6547101449275362\n",
      "Accuracy with 283 neighbors: 0.6536291280589215\n",
      "Accuracy with 285 neighbors: 0.6547160845806606\n",
      "Accuracy with 287 neighbors: 0.6558030411023996\n",
      "Accuracy with 289 neighbors: 0.6525421715371822\n",
      "Accuracy with 291 neighbors: 0.6514552150154431\n",
      "Accuracy with 293 neighbors: 0.6492753623188406\n",
      "Accuracy with 295 neighbors: 0.6514552150154431\n",
      "Accuracy with 297 neighbors: 0.6503741981468283\n",
      "Accuracy with 299 neighbors: 0.6481824661439772\n",
      "Accuracy with 301 neighbors: 0.6492694226657163\n",
      "Accuracy with 303 neighbors: 0.6470836303159896\n",
      "Accuracy with 305 neighbors: 0.6459966737942504\n",
      "Accuracy with 307 neighbors: 0.6459966737942504\n",
      "Accuracy with 309 neighbors: 0.6449037776193871\n",
      "Accuracy with 311 neighbors: 0.6438108814445236\n",
      "Accuracy with 313 neighbors: 0.643816821097648\n",
      "Accuracy with 315 neighbors: 0.6438108814445236\n",
      "Accuracy with 317 neighbors: 0.6449037776193871\n",
      "Accuracy with 319 neighbors: 0.6470836303159896\n",
      "Accuracy with 321 neighbors: 0.6449097172725113\n",
      "Accuracy with 323 neighbors: 0.6449156569256356\n",
      "Accuracy with 325 neighbors: 0.6438227607507722\n",
      "Accuracy with 327 neighbors: 0.6416369684010454\n",
      "Accuracy with 329 neighbors: 0.6416429080541697\n",
      "Accuracy with 331 neighbors: 0.6405559515324305\n",
      "Accuracy with 333 neighbors: 0.6405559515324305\n",
      "Accuracy with 335 neighbors: 0.6394689950106914\n",
      "Accuracy with 337 neighbors: 0.6340104537894987\n",
      "Accuracy with 339 neighbors: 0.6361962461392254\n",
      "Accuracy with 341 neighbors: 0.638376098835828\n",
      "Accuracy with 343 neighbors: 0.6394749346638157\n",
      "Accuracy with 345 neighbors: 0.6394689950106913\n"
     ]
    },
    {
     "name": "stdout",
     "output_type": "stream",
     "text": [
      "Accuracy with 347 neighbors: 0.6362021857923497\n",
      "Accuracy with 349 neighbors: 0.6405618911855548\n",
      "Accuracy with 351 neighbors: 0.6405559515324304\n",
      "Accuracy with 353 neighbors: 0.6416488477072939\n",
      "Accuracy with 355 neighbors: 0.6394689950106913\n",
      "Accuracy with 357 neighbors: 0.6405618911855547\n",
      "Accuracy with 359 neighbors: 0.6416547873604181\n",
      "Accuracy with 361 neighbors: 0.641654787360418\n",
      "Accuracy with 363 neighbors: 0.6416488477072939\n",
      "Accuracy with 365 neighbors: 0.6405737704918033\n",
      "Accuracy with 367 neighbors: 0.6405737704918033\n",
      "Accuracy with 369 neighbors: 0.6416607270135424\n",
      "Accuracy with 371 neighbors: 0.6416547873604183\n",
      "Accuracy with 373 neighbors: 0.6405618911855548\n",
      "Accuracy with 375 neighbors: 0.6416547873604183\n",
      "Accuracy with 377 neighbors: 0.6405678308386791\n",
      "Accuracy with 379 neighbors: 0.6383939177952007\n",
      "Accuracy with 381 neighbors: 0.6329531955333809\n",
      "Accuracy with 383 neighbors: 0.6318602993585175\n",
      "Accuracy with 385 neighbors: 0.6318602993585175\n",
      "Accuracy with 387 neighbors: 0.6329413162271323\n",
      "Accuracy with 389 neighbors: 0.6307674031836541\n",
      "Accuracy with 391 neighbors: 0.6329413162271325\n",
      "Accuracy with 393 neighbors: 0.6274827750059396\n",
      "Accuracy with 395 neighbors: 0.6285816108339273\n",
      "Accuracy with 397 neighbors: 0.6274946543121882\n",
      "Accuracy with 399 neighbors: 0.626407697790449\n",
      "Accuracy with 401 neighbors: 0.6285934901401757\n",
      "Accuracy with 403 neighbors: 0.6264076977904491\n",
      "Accuracy with 405 neighbors: 0.6274946543121882\n",
      "Accuracy with 407 neighbors: 0.6285816108339273\n",
      "Accuracy with 409 neighbors: 0.6296745070087907\n",
      "Accuracy with 411 neighbors: 0.6307555238774055\n",
      "Accuracy with 413 neighbors: 0.6274946543121882\n",
      "Accuracy with 415 neighbors: 0.6274946543121882\n",
      "Accuracy with 417 neighbors: 0.6231349489189831\n",
      "Accuracy with 419 neighbors: 0.6220539320503683\n",
      "Accuracy with 421 neighbors: 0.6187752435257782\n",
      "Accuracy with 423 neighbors: 0.6155024946543122\n",
      "Accuracy with 425 neighbors: 0.6198622000475172\n",
      "Accuracy with 427 neighbors: 0.6165953908291756\n",
      "Accuracy with 429 neighbors: 0.6144095984794488\n",
      "Accuracy with 431 neighbors: 0.6144036588263245\n",
      "Accuracy with 433 neighbors: 0.6133167023045855\n",
      "Accuracy with 435 neighbors: 0.6089629365645045\n",
      "Accuracy with 437 neighbors: 0.6089688762176289\n",
      "Accuracy with 439 neighbors: 0.6111427892611072\n",
      "Accuracy with 441 neighbors: 0.6133107626514611\n",
      "Accuracy with 443 neighbors: 0.6111249703017344\n",
      "Accuracy with 445 neighbors: 0.6132929436920884\n",
      "Accuracy with 447 neighbors: 0.612200047517225\n",
      "Accuracy with 449 neighbors: 0.6089332382988832\n",
      "Accuracy with 451 neighbors: 0.6067533856022808\n",
      "Accuracy with 453 neighbors: 0.6067533856022809\n",
      "Accuracy with 455 neighbors: 0.6045735329056783\n",
      "Accuracy with 457 neighbors: 0.5969351389878831\n",
      "Accuracy with 459 neighbors: 0.5914884770729388\n",
      "Accuracy with 461 neighbors: 0.5914765977666905\n",
      "Accuracy with 463 neighbors: 0.5871168923734854\n",
      "Accuracy with 465 neighbors: 0.5849429793300072\n",
      "Accuracy with 467 neighbors: 0.5849370396768828\n",
      "Accuracy with 469 neighbors: 0.5849370396768828\n",
      "Accuracy with 471 neighbors: 0.5816761701116654\n",
      "Accuracy with 473 neighbors: 0.5805832739368022\n",
      "Accuracy with 475 neighbors: 0.5794963174150629\n",
      "Accuracy with 477 neighbors: 0.575136612021858\n",
      "Accuracy with 479 neighbors: 0.5762176288904727\n",
      "Accuracy with 481 neighbors: 0.5729448800190069\n",
      "Accuracy with 483 neighbors: 0.5740377761938702\n",
      "Accuracy with 485 neighbors: 0.5729508196721311\n",
      "Accuracy with 487 neighbors: 0.575136612021858\n",
      "Accuracy with 489 neighbors: 0.575136612021858\n",
      "Accuracy with 491 neighbors: 0.5729626989783796\n",
      "Accuracy with 493 neighbors: 0.5718757424566405\n",
      "Accuracy with 495 neighbors: 0.5729686386315039\n",
      "Accuracy with 497 neighbors: 0.5729626989783796\n",
      "Accuracy with 499 neighbors: 0.5696899501069137\n"
     ]
    }
   ],
   "source": [
    "scores = []\n",
    "\n",
    "for k in ks:\n",
    "    knn = KNeighborsClassifier(k)\n",
    "    score = cross_val_score(knn, X, y, cv = 5, scoring = 'accuracy').mean()\n",
    "    scores.append(score)\n",
    "    print(f\"Accuracy with {k} neighbors: {score}\")"
   ]
  },
  {
   "cell_type": "code",
   "execution_count": 78,
   "id": "e4e00c82",
   "metadata": {},
   "outputs": [
    {
     "data": {
      "text/plain": [
       "0.6863031598954621"
      ]
     },
     "execution_count": 78,
     "metadata": {},
     "output_type": "execute_result"
    }
   ],
   "source": [
    "knn_accuracy = max(scores)\n",
    "knn_accuracy"
   ]
  },
  {
   "cell_type": "code",
   "execution_count": 79,
   "id": "e6424055",
   "metadata": {},
   "outputs": [
    {
     "data": {
      "text/plain": [
       "0.8278213352340223"
      ]
     },
     "execution_count": 79,
     "metadata": {},
     "output_type": "execute_result"
    }
   ],
   "source": [
    "log_reg_accuracy"
   ]
  },
  {
   "cell_type": "code",
   "execution_count": 80,
   "id": "1adf70f0",
   "metadata": {},
   "outputs": [
    {
     "data": {
      "text/plain": [
       "Age                          40.0\n",
       "RestingBP                   140.0\n",
       "Cholesterol                 289.0\n",
       "FastingBS                     0.0\n",
       "MaxHR                       172.0\n",
       "Oldpeak                       0.0\n",
       "Chest Pain Encoded            1.0\n",
       "Resting ECG Encoded           1.0\n",
       "Excersise Angina Encoded      0.0\n",
       "ST Slope Encoded              2.0\n",
       "Male Encoded                  1.0\n",
       "Name: 0, dtype: float64"
      ]
     },
     "execution_count": 80,
     "metadata": {},
     "output_type": "execute_result"
    }
   ],
   "source": [
    "X.iloc[0]"
   ]
  },
  {
   "cell_type": "code",
   "execution_count": 81,
   "id": "a2223c27",
   "metadata": {},
   "outputs": [
    {
     "data": {
      "text/plain": [
       "0"
      ]
     },
     "execution_count": 81,
     "metadata": {},
     "output_type": "execute_result"
    }
   ],
   "source": [
    "y.iloc[0]"
   ]
  }
 ],
 "metadata": {
  "kernelspec": {
   "display_name": "Python 3 (ipykernel)",
   "language": "python",
   "name": "python3"
  },
  "language_info": {
   "codemirror_mode": {
    "name": "ipython",
    "version": 3
   },
   "file_extension": ".py",
   "mimetype": "text/x-python",
   "name": "python",
   "nbconvert_exporter": "python",
   "pygments_lexer": "ipython3",
   "version": "3.9.7"
  }
 },
 "nbformat": 4,
 "nbformat_minor": 5
}
