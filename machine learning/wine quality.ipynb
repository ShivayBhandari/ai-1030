{
 "cells": [
  {
   "cell_type": "code",
   "execution_count": 1,
   "id": "59263f42",
   "metadata": {},
   "outputs": [],
   "source": [
    "import numpy as np\n",
    "import pandas as pd\n",
    "import matplotlib.pyplot as plt\n",
    "import seaborn as sns"
   ]
  },
  {
   "cell_type": "code",
   "execution_count": 2,
   "id": "f9342b25",
   "metadata": {},
   "outputs": [
    {
     "data": {
      "text/html": [
       "<div>\n",
       "<style scoped>\n",
       "    .dataframe tbody tr th:only-of-type {\n",
       "        vertical-align: middle;\n",
       "    }\n",
       "\n",
       "    .dataframe tbody tr th {\n",
       "        vertical-align: top;\n",
       "    }\n",
       "\n",
       "    .dataframe thead th {\n",
       "        text-align: right;\n",
       "    }\n",
       "</style>\n",
       "<table border=\"1\" class=\"dataframe\">\n",
       "  <thead>\n",
       "    <tr style=\"text-align: right;\">\n",
       "      <th></th>\n",
       "      <th>fixed acidity</th>\n",
       "      <th>volatile acidity</th>\n",
       "      <th>citric acid</th>\n",
       "      <th>residual sugar</th>\n",
       "      <th>chlorides</th>\n",
       "      <th>free sulfur dioxide</th>\n",
       "      <th>total sulfur dioxide</th>\n",
       "      <th>density</th>\n",
       "      <th>pH</th>\n",
       "      <th>sulphates</th>\n",
       "      <th>alcohol</th>\n",
       "      <th>quality</th>\n",
       "      <th>Id</th>\n",
       "    </tr>\n",
       "  </thead>\n",
       "  <tbody>\n",
       "    <tr>\n",
       "      <th>0</th>\n",
       "      <td>7.4</td>\n",
       "      <td>0.70</td>\n",
       "      <td>0.00</td>\n",
       "      <td>1.9</td>\n",
       "      <td>0.076</td>\n",
       "      <td>11.0</td>\n",
       "      <td>34.0</td>\n",
       "      <td>0.9978</td>\n",
       "      <td>3.51</td>\n",
       "      <td>0.56</td>\n",
       "      <td>9.4</td>\n",
       "      <td>5</td>\n",
       "      <td>0</td>\n",
       "    </tr>\n",
       "    <tr>\n",
       "      <th>1</th>\n",
       "      <td>7.8</td>\n",
       "      <td>0.88</td>\n",
       "      <td>0.00</td>\n",
       "      <td>2.6</td>\n",
       "      <td>0.098</td>\n",
       "      <td>25.0</td>\n",
       "      <td>67.0</td>\n",
       "      <td>0.9968</td>\n",
       "      <td>3.20</td>\n",
       "      <td>0.68</td>\n",
       "      <td>9.8</td>\n",
       "      <td>5</td>\n",
       "      <td>1</td>\n",
       "    </tr>\n",
       "    <tr>\n",
       "      <th>2</th>\n",
       "      <td>7.8</td>\n",
       "      <td>0.76</td>\n",
       "      <td>0.04</td>\n",
       "      <td>2.3</td>\n",
       "      <td>0.092</td>\n",
       "      <td>15.0</td>\n",
       "      <td>54.0</td>\n",
       "      <td>0.9970</td>\n",
       "      <td>3.26</td>\n",
       "      <td>0.65</td>\n",
       "      <td>9.8</td>\n",
       "      <td>5</td>\n",
       "      <td>2</td>\n",
       "    </tr>\n",
       "    <tr>\n",
       "      <th>3</th>\n",
       "      <td>11.2</td>\n",
       "      <td>0.28</td>\n",
       "      <td>0.56</td>\n",
       "      <td>1.9</td>\n",
       "      <td>0.075</td>\n",
       "      <td>17.0</td>\n",
       "      <td>60.0</td>\n",
       "      <td>0.9980</td>\n",
       "      <td>3.16</td>\n",
       "      <td>0.58</td>\n",
       "      <td>9.8</td>\n",
       "      <td>6</td>\n",
       "      <td>3</td>\n",
       "    </tr>\n",
       "    <tr>\n",
       "      <th>4</th>\n",
       "      <td>7.4</td>\n",
       "      <td>0.70</td>\n",
       "      <td>0.00</td>\n",
       "      <td>1.9</td>\n",
       "      <td>0.076</td>\n",
       "      <td>11.0</td>\n",
       "      <td>34.0</td>\n",
       "      <td>0.9978</td>\n",
       "      <td>3.51</td>\n",
       "      <td>0.56</td>\n",
       "      <td>9.4</td>\n",
       "      <td>5</td>\n",
       "      <td>4</td>\n",
       "    </tr>\n",
       "  </tbody>\n",
       "</table>\n",
       "</div>"
      ],
      "text/plain": [
       "   fixed acidity  volatile acidity  citric acid  residual sugar  chlorides  \\\n",
       "0            7.4              0.70         0.00             1.9      0.076   \n",
       "1            7.8              0.88         0.00             2.6      0.098   \n",
       "2            7.8              0.76         0.04             2.3      0.092   \n",
       "3           11.2              0.28         0.56             1.9      0.075   \n",
       "4            7.4              0.70         0.00             1.9      0.076   \n",
       "\n",
       "   free sulfur dioxide  total sulfur dioxide  density    pH  sulphates  \\\n",
       "0                 11.0                  34.0   0.9978  3.51       0.56   \n",
       "1                 25.0                  67.0   0.9968  3.20       0.68   \n",
       "2                 15.0                  54.0   0.9970  3.26       0.65   \n",
       "3                 17.0                  60.0   0.9980  3.16       0.58   \n",
       "4                 11.0                  34.0   0.9978  3.51       0.56   \n",
       "\n",
       "   alcohol  quality  Id  \n",
       "0      9.4        5   0  \n",
       "1      9.8        5   1  \n",
       "2      9.8        5   2  \n",
       "3      9.8        6   3  \n",
       "4      9.4        5   4  "
      ]
     },
     "execution_count": 2,
     "metadata": {},
     "output_type": "execute_result"
    }
   ],
   "source": [
    "df = pd.read_csv('WineQT.csv')\n",
    "df.head()"
   ]
  },
  {
   "cell_type": "code",
   "execution_count": 3,
   "id": "bcaa5aa2",
   "metadata": {},
   "outputs": [
    {
     "name": "stdout",
     "output_type": "stream",
     "text": [
      "<class 'pandas.core.frame.DataFrame'>\n",
      "RangeIndex: 1143 entries, 0 to 1142\n",
      "Data columns (total 13 columns):\n",
      " #   Column                Non-Null Count  Dtype  \n",
      "---  ------                --------------  -----  \n",
      " 0   fixed acidity         1143 non-null   float64\n",
      " 1   volatile acidity      1143 non-null   float64\n",
      " 2   citric acid           1143 non-null   float64\n",
      " 3   residual sugar        1143 non-null   float64\n",
      " 4   chlorides             1143 non-null   float64\n",
      " 5   free sulfur dioxide   1143 non-null   float64\n",
      " 6   total sulfur dioxide  1143 non-null   float64\n",
      " 7   density               1143 non-null   float64\n",
      " 8   pH                    1143 non-null   float64\n",
      " 9   sulphates             1143 non-null   float64\n",
      " 10  alcohol               1143 non-null   float64\n",
      " 11  quality               1143 non-null   int64  \n",
      " 12  Id                    1143 non-null   int64  \n",
      "dtypes: float64(11), int64(2)\n",
      "memory usage: 116.2 KB\n"
     ]
    }
   ],
   "source": [
    "df.info()"
   ]
  },
  {
   "cell_type": "code",
   "execution_count": 4,
   "id": "f9f7218a",
   "metadata": {},
   "outputs": [
    {
     "data": {
      "text/plain": [
       "fixed acidity           0\n",
       "volatile acidity        0\n",
       "citric acid             0\n",
       "residual sugar          0\n",
       "chlorides               0\n",
       "free sulfur dioxide     0\n",
       "total sulfur dioxide    0\n",
       "density                 0\n",
       "pH                      0\n",
       "sulphates               0\n",
       "alcohol                 0\n",
       "quality                 0\n",
       "Id                      0\n",
       "dtype: int64"
      ]
     },
     "execution_count": 4,
     "metadata": {},
     "output_type": "execute_result"
    }
   ],
   "source": [
    "df.isnull().sum()"
   ]
  },
  {
   "cell_type": "code",
   "execution_count": 5,
   "id": "4c95f8fe",
   "metadata": {},
   "outputs": [
    {
     "data": {
      "text/plain": [
       "array([5, 6, 7, 4, 8, 3])"
      ]
     },
     "execution_count": 5,
     "metadata": {},
     "output_type": "execute_result"
    }
   ],
   "source": [
    "df['quality'].unique()"
   ]
  },
  {
   "cell_type": "code",
   "execution_count": 6,
   "id": "757d8352",
   "metadata": {},
   "outputs": [],
   "source": [
    "sns.set_style('darkgrid')"
   ]
  },
  {
   "cell_type": "code",
   "execution_count": 7,
   "id": "6033ff7b",
   "metadata": {},
   "outputs": [
    {
     "name": "stderr",
     "output_type": "stream",
     "text": [
      "/Volumes/Kriti-1/Applications/anaconda3/lib/python3.9/site-packages/seaborn/_decorators.py:36: FutureWarning: Pass the following variable as a keyword arg: x. From version 0.12, the only valid positional argument will be `data`, and passing other arguments without an explicit keyword will result in an error or misinterpretation.\n",
      "  warnings.warn(\n"
     ]
    },
    {
     "data": {
      "text/plain": [
       "<AxesSubplot:xlabel='quality', ylabel='count'>"
      ]
     },
     "execution_count": 7,
     "metadata": {},
     "output_type": "execute_result"
    },
    {
     "data": {
      "image/png": "[encoded data removed]",
      "text/plain": [
       "<Figure size 432x288 with 1 Axes>"
      ]
     },
     "metadata": {},
     "output_type": "display_data"
    }
   ],
   "source": [
    "sns.countplot(df['quality'])"
   ]
  },
  {
   "cell_type": "code",
   "execution_count": 8,
   "id": "a2c6582c",
   "metadata": {},
   "outputs": [
    {
     "data": {
      "text/plain": [
       "fixed acidity             8.311111\n",
       "volatile acidity          0.531339\n",
       "citric acid               0.268364\n",
       "residual sugar            2.532152\n",
       "chlorides                 0.086933\n",
       "free sulfur dioxide      15.615486\n",
       "total sulfur dioxide     45.914698\n",
       "density                   0.996730\n",
       "pH                        3.311015\n",
       "sulphates                 0.657708\n",
       "alcohol                  10.442111\n",
       "quality                   5.657043\n",
       "Id                      804.969379\n",
       "dtype: float64"
      ]
     },
     "execution_count": 8,
     "metadata": {},
     "output_type": "execute_result"
    }
   ],
   "source": [
    "df.mean()"
   ]
  },
  {
   "cell_type": "code",
   "execution_count": 9,
   "id": "3509575a",
   "metadata": {},
   "outputs": [],
   "source": [
    "X = df.drop('quality', axis = 1)\n",
    "y = df['quality']"
   ]
  },
  {
   "cell_type": "code",
   "execution_count": 10,
   "id": "4875d497",
   "metadata": {},
   "outputs": [],
   "source": [
    "from sklearn.model_selection import train_test_split"
   ]
  },
  {
   "cell_type": "code",
   "execution_count": 11,
   "id": "6362e09f",
   "metadata": {},
   "outputs": [],
   "source": [
    "X_train, X_test, y_train, y_test = train_test_split(X, y, test_size=0.33)"
   ]
  },
  {
   "cell_type": "code",
   "execution_count": 12,
   "id": "f0e4f98f",
   "metadata": {},
   "outputs": [
    {
     "data": {
      "text/plain": [
       "(765, 12)"
      ]
     },
     "execution_count": 12,
     "metadata": {},
     "output_type": "execute_result"
    }
   ],
   "source": [
    "X_train.shape"
   ]
  },
  {
   "cell_type": "code",
   "execution_count": 13,
   "id": "d95f5fe4",
   "metadata": {},
   "outputs": [],
   "source": [
    "from sklearn.preprocessing import MinMaxScaler"
   ]
  },
  {
   "cell_type": "code",
   "execution_count": 14,
   "id": "3f7d13f7",
   "metadata": {},
   "outputs": [],
   "source": [
    "scaler = MinMaxScaler()"
   ]
  },
  {
   "cell_type": "code",
   "execution_count": 15,
   "id": "f4263ac3",
   "metadata": {},
   "outputs": [],
   "source": [
    "scaled_X_train = scaler.fit_transform(X_train)\n",
    "scaled_X_test = scaler.transform(X_test)"
   ]
  },
  {
   "cell_type": "code",
   "execution_count": 16,
   "id": "635dfb11",
   "metadata": {},
   "outputs": [],
   "source": [
    "scaled_columns = ['fixed acidity', 'volatile acidity', 'citric acid', 'residual sugar',\n",
    "       'chlorides', 'free sulfur dioxide', 'total sulfur dioxide', 'density',\n",
    "       'pH', 'sulphates', 'alcohol', 'Id']"
   ]
  },
  {
   "cell_type": "code",
   "execution_count": 17,
   "id": "f48781ee",
   "metadata": {},
   "outputs": [
    {
     "data": {
      "text/html": [
       "<div>\n",
       "<style scoped>\n",
       "    .dataframe tbody tr th:only-of-type {\n",
       "        vertical-align: middle;\n",
       "    }\n",
       "\n",
       "    .dataframe tbody tr th {\n",
       "        vertical-align: top;\n",
       "    }\n",
       "\n",
       "    .dataframe thead th {\n",
       "        text-align: right;\n",
       "    }\n",
       "</style>\n",
       "<table border=\"1\" class=\"dataframe\">\n",
       "  <thead>\n",
       "    <tr style=\"text-align: right;\">\n",
       "      <th></th>\n",
       "      <th>fixed acidity</th>\n",
       "      <th>volatile acidity</th>\n",
       "      <th>citric acid</th>\n",
       "      <th>residual sugar</th>\n",
       "      <th>chlorides</th>\n",
       "      <th>free sulfur dioxide</th>\n",
       "      <th>total sulfur dioxide</th>\n",
       "      <th>density</th>\n",
       "      <th>pH</th>\n",
       "      <th>sulphates</th>\n",
       "      <th>alcohol</th>\n",
       "      <th>Id</th>\n",
       "    </tr>\n",
       "  </thead>\n",
       "  <tbody>\n",
       "    <tr>\n",
       "      <th>0</th>\n",
       "      <td>0.256637</td>\n",
       "      <td>0.308219</td>\n",
       "      <td>0.025316</td>\n",
       "      <td>0.097902</td>\n",
       "      <td>0.108514</td>\n",
       "      <td>0.149254</td>\n",
       "      <td>0.103321</td>\n",
       "      <td>0.377778</td>\n",
       "      <td>0.434783</td>\n",
       "      <td>0.179012</td>\n",
       "      <td>0.369231</td>\n",
       "      <td>0.864035</td>\n",
       "    </tr>\n",
       "    <tr>\n",
       "      <th>1</th>\n",
       "      <td>0.654867</td>\n",
       "      <td>0.109589</td>\n",
       "      <td>0.620253</td>\n",
       "      <td>0.048951</td>\n",
       "      <td>0.103506</td>\n",
       "      <td>0.134328</td>\n",
       "      <td>0.051661</td>\n",
       "      <td>0.533333</td>\n",
       "      <td>0.104348</td>\n",
       "      <td>0.203704</td>\n",
       "      <td>0.230769</td>\n",
       "      <td>0.364662</td>\n",
       "    </tr>\n",
       "    <tr>\n",
       "      <th>2</th>\n",
       "      <td>0.212389</td>\n",
       "      <td>0.452055</td>\n",
       "      <td>0.101266</td>\n",
       "      <td>0.055944</td>\n",
       "      <td>0.135225</td>\n",
       "      <td>0.134328</td>\n",
       "      <td>0.044280</td>\n",
       "      <td>0.380077</td>\n",
       "      <td>0.469565</td>\n",
       "      <td>0.086420</td>\n",
       "      <td>0.246154</td>\n",
       "      <td>0.441729</td>\n",
       "    </tr>\n",
       "    <tr>\n",
       "      <th>3</th>\n",
       "      <td>0.238938</td>\n",
       "      <td>0.650685</td>\n",
       "      <td>0.113924</td>\n",
       "      <td>0.034965</td>\n",
       "      <td>0.277129</td>\n",
       "      <td>0.134328</td>\n",
       "      <td>0.302583</td>\n",
       "      <td>0.426054</td>\n",
       "      <td>0.382609</td>\n",
       "      <td>0.148148</td>\n",
       "      <td>0.092308</td>\n",
       "      <td>0.074561</td>\n",
       "    </tr>\n",
       "    <tr>\n",
       "      <th>4</th>\n",
       "      <td>0.415929</td>\n",
       "      <td>0.407534</td>\n",
       "      <td>0.303797</td>\n",
       "      <td>0.062937</td>\n",
       "      <td>0.096828</td>\n",
       "      <td>0.059701</td>\n",
       "      <td>0.047970</td>\n",
       "      <td>0.456705</td>\n",
       "      <td>0.226087</td>\n",
       "      <td>0.160494</td>\n",
       "      <td>0.230769</td>\n",
       "      <td>0.338972</td>\n",
       "    </tr>\n",
       "  </tbody>\n",
       "</table>\n",
       "</div>"
      ],
      "text/plain": [
       "   fixed acidity  volatile acidity  citric acid  residual sugar  chlorides  \\\n",
       "0       0.256637          0.308219     0.025316        0.097902   0.108514   \n",
       "1       0.654867          0.109589     0.620253        0.048951   0.103506   \n",
       "2       0.212389          0.452055     0.101266        0.055944   0.135225   \n",
       "3       0.238938          0.650685     0.113924        0.034965   0.277129   \n",
       "4       0.415929          0.407534     0.303797        0.062937   0.096828   \n",
       "\n",
       "   free sulfur dioxide  total sulfur dioxide   density        pH  sulphates  \\\n",
       "0             0.149254              0.103321  0.377778  0.434783   0.179012   \n",
       "1             0.134328              0.051661  0.533333  0.104348   0.203704   \n",
       "2             0.134328              0.044280  0.380077  0.469565   0.086420   \n",
       "3             0.134328              0.302583  0.426054  0.382609   0.148148   \n",
       "4             0.059701              0.047970  0.456705  0.226087   0.160494   \n",
       "\n",
       "    alcohol        Id  \n",
       "0  0.369231  0.864035  \n",
       "1  0.230769  0.364662  \n",
       "2  0.246154  0.441729  \n",
       "3  0.092308  0.074561  \n",
       "4  0.230769  0.338972  "
      ]
     },
     "execution_count": 17,
     "metadata": {},
     "output_type": "execute_result"
    }
   ],
   "source": [
    "scaled_X_train = pd.DataFrame(scaled_X_train, columns = scaled_columns)\n",
    "scaled_X_train.head()"
   ]
  },
  {
   "cell_type": "code",
   "execution_count": 18,
   "id": "6890612e",
   "metadata": {},
   "outputs": [
    {
     "data": {
      "text/html": [
       "<div>\n",
       "<style scoped>\n",
       "    .dataframe tbody tr th:only-of-type {\n",
       "        vertical-align: middle;\n",
       "    }\n",
       "\n",
       "    .dataframe tbody tr th {\n",
       "        vertical-align: top;\n",
       "    }\n",
       "\n",
       "    .dataframe thead th {\n",
       "        text-align: right;\n",
       "    }\n",
       "</style>\n",
       "<table border=\"1\" class=\"dataframe\">\n",
       "  <thead>\n",
       "    <tr style=\"text-align: right;\">\n",
       "      <th></th>\n",
       "      <th>fixed acidity</th>\n",
       "      <th>volatile acidity</th>\n",
       "      <th>citric acid</th>\n",
       "      <th>residual sugar</th>\n",
       "      <th>chlorides</th>\n",
       "      <th>free sulfur dioxide</th>\n",
       "      <th>total sulfur dioxide</th>\n",
       "      <th>density</th>\n",
       "      <th>pH</th>\n",
       "      <th>sulphates</th>\n",
       "      <th>alcohol</th>\n",
       "      <th>Id</th>\n",
       "    </tr>\n",
       "  </thead>\n",
       "  <tbody>\n",
       "    <tr>\n",
       "      <th>0</th>\n",
       "      <td>0.292035</td>\n",
       "      <td>0.291096</td>\n",
       "      <td>0.075949</td>\n",
       "      <td>0.195804</td>\n",
       "      <td>0.125209</td>\n",
       "      <td>0.388060</td>\n",
       "      <td>0.199262</td>\n",
       "      <td>0.449042</td>\n",
       "      <td>0.434783</td>\n",
       "      <td>0.209877</td>\n",
       "      <td>0.353846</td>\n",
       "      <td>0.171679</td>\n",
       "    </tr>\n",
       "    <tr>\n",
       "      <th>1</th>\n",
       "      <td>0.371681</td>\n",
       "      <td>0.369863</td>\n",
       "      <td>0.329114</td>\n",
       "      <td>0.034965</td>\n",
       "      <td>0.103506</td>\n",
       "      <td>0.044776</td>\n",
       "      <td>0.059041</td>\n",
       "      <td>0.495019</td>\n",
       "      <td>0.252174</td>\n",
       "      <td>0.253086</td>\n",
       "      <td>0.123077</td>\n",
       "      <td>0.030702</td>\n",
       "    </tr>\n",
       "    <tr>\n",
       "      <th>2</th>\n",
       "      <td>0.309735</td>\n",
       "      <td>0.311644</td>\n",
       "      <td>0.278481</td>\n",
       "      <td>0.062937</td>\n",
       "      <td>0.108514</td>\n",
       "      <td>0.164179</td>\n",
       "      <td>0.214022</td>\n",
       "      <td>0.464368</td>\n",
       "      <td>0.373913</td>\n",
       "      <td>0.111111</td>\n",
       "      <td>0.123077</td>\n",
       "      <td>0.065163</td>\n",
       "    </tr>\n",
       "    <tr>\n",
       "      <th>3</th>\n",
       "      <td>0.132743</td>\n",
       "      <td>0.400685</td>\n",
       "      <td>0.126582</td>\n",
       "      <td>0.111888</td>\n",
       "      <td>0.115192</td>\n",
       "      <td>0.179104</td>\n",
       "      <td>0.077491</td>\n",
       "      <td>0.434483</td>\n",
       "      <td>0.643478</td>\n",
       "      <td>0.203704</td>\n",
       "      <td>0.276923</td>\n",
       "      <td>0.958647</td>\n",
       "    </tr>\n",
       "    <tr>\n",
       "      <th>4</th>\n",
       "      <td>0.584071</td>\n",
       "      <td>0.191781</td>\n",
       "      <td>0.632911</td>\n",
       "      <td>0.055944</td>\n",
       "      <td>0.145242</td>\n",
       "      <td>0.268657</td>\n",
       "      <td>0.158672</td>\n",
       "      <td>0.550958</td>\n",
       "      <td>0.208696</td>\n",
       "      <td>0.154321</td>\n",
       "      <td>0.307692</td>\n",
       "      <td>0.969298</td>\n",
       "    </tr>\n",
       "  </tbody>\n",
       "</table>\n",
       "</div>"
      ],
      "text/plain": [
       "   fixed acidity  volatile acidity  citric acid  residual sugar  chlorides  \\\n",
       "0       0.292035          0.291096     0.075949        0.195804   0.125209   \n",
       "1       0.371681          0.369863     0.329114        0.034965   0.103506   \n",
       "2       0.309735          0.311644     0.278481        0.062937   0.108514   \n",
       "3       0.132743          0.400685     0.126582        0.111888   0.115192   \n",
       "4       0.584071          0.191781     0.632911        0.055944   0.145242   \n",
       "\n",
       "   free sulfur dioxide  total sulfur dioxide   density        pH  sulphates  \\\n",
       "0             0.388060              0.199262  0.449042  0.434783   0.209877   \n",
       "1             0.044776              0.059041  0.495019  0.252174   0.253086   \n",
       "2             0.164179              0.214022  0.464368  0.373913   0.111111   \n",
       "3             0.179104              0.077491  0.434483  0.643478   0.203704   \n",
       "4             0.268657              0.158672  0.550958  0.208696   0.154321   \n",
       "\n",
       "    alcohol        Id  \n",
       "0  0.353846  0.171679  \n",
       "1  0.123077  0.030702  \n",
       "2  0.123077  0.065163  \n",
       "3  0.276923  0.958647  \n",
       "4  0.307692  0.969298  "
      ]
     },
     "execution_count": 18,
     "metadata": {},
     "output_type": "execute_result"
    }
   ],
   "source": [
    "scaled_X_test = pd.DataFrame(scaled_X_test, columns = scaled_columns)\n",
    "scaled_X_test.head()"
   ]
  },
  {
   "cell_type": "code",
   "execution_count": 19,
   "id": "65dedb5e",
   "metadata": {},
   "outputs": [
    {
     "data": {
      "text/plain": [
       "array([[-3.18584071e-01,  1.28767123e+00,  3.79746835e+00,\n",
       "         1.95804196e-01,  8.32721202e+00,  7.46268657e-02,\n",
       "         0.00000000e+00,  5.37115709e+02,  5.33913043e+00,\n",
       "         5.96913580e+00,  4.00000000e-01,  6.89223058e-03]])"
      ]
     },
     "execution_count": 19,
     "metadata": {},
     "output_type": "execute_result"
    }
   ],
   "source": [
    "new_values = [1, 2, 3, 4, 5, 6, 7, 8, 9, 10, 11, 12]\n",
    "scaler.transform([new_values])"
   ]
  },
  {
   "cell_type": "code",
   "execution_count": 20,
   "id": "cdde4080",
   "metadata": {},
   "outputs": [
    {
     "data": {
      "text/plain": [
       "(765, 12)"
      ]
     },
     "execution_count": 20,
     "metadata": {},
     "output_type": "execute_result"
    }
   ],
   "source": [
    "scaled_X_train.shape"
   ]
  },
  {
   "cell_type": "code",
   "execution_count": 22,
   "id": "03e1de5b",
   "metadata": {},
   "outputs": [
    {
     "data": {
      "text/plain": [
       "228.6"
      ]
     },
     "execution_count": 22,
     "metadata": {},
     "output_type": "execute_result"
    }
   ],
   "source": [
    "one_group_len = 1143 / 5\n",
    "one_group_len"
   ]
  },
  {
   "cell_type": "code",
   "execution_count": 23,
   "id": "a7c84b3a",
   "metadata": {},
   "outputs": [],
   "source": [
    "cv = 5"
   ]
  },
  {
   "cell_type": "code",
   "execution_count": 24,
   "id": "c6729e1d",
   "metadata": {},
   "outputs": [
    {
     "data": {
      "text/plain": [
       "914.4"
      ]
     },
     "execution_count": 24,
     "metadata": {},
     "output_type": "execute_result"
    }
   ],
   "source": [
    "one_group_len * 4"
   ]
  },
  {
   "cell_type": "code",
   "execution_count": 25,
   "id": "397e90b0",
   "metadata": {},
   "outputs": [],
   "source": [
    "from sklearn.neighbors import KNeighborsClassifier"
   ]
  },
  {
   "cell_type": "code",
   "execution_count": 26,
   "id": "de73d9f1",
   "metadata": {},
   "outputs": [],
   "source": [
    "knn = KNeighborsClassifier()"
   ]
  },
  {
   "cell_type": "code",
   "execution_count": 27,
   "id": "c14f4324",
   "metadata": {},
   "outputs": [
    {
     "data": {
      "text/plain": [
       "KNeighborsClassifier()"
      ]
     },
     "execution_count": 27,
     "metadata": {},
     "output_type": "execute_result"
    }
   ],
   "source": [
    "knn.fit(scaled_X_train, y_train)"
   ]
  },
  {
   "cell_type": "code",
   "execution_count": 29,
   "id": "a50c77a1",
   "metadata": {},
   "outputs": [
    {
     "data": {
      "text/plain": [
       "array([6, 5, 5, 5, 5, 6, 6, 5, 5, 7, 5, 5, 6, 5, 6, 5, 7, 5, 6, 6, 5, 5,\n",
       "       7, 6, 6, 7, 5, 5, 5, 6, 5, 5, 6, 5, 5, 6, 6, 7, 5, 7, 5, 6, 5, 6,\n",
       "       4, 6, 7, 5, 5, 6, 6, 6, 7, 5, 5, 5, 5, 6, 5, 5, 5, 6, 6, 5, 6, 5,\n",
       "       5, 5, 5, 5, 5, 5, 5, 6, 5, 6, 5, 6, 6, 6, 7, 6, 6, 6, 5, 5, 6, 5,\n",
       "       5, 5, 5, 6, 5, 6, 7, 6, 6, 5, 5, 6, 5, 6, 5, 5, 6, 5, 6, 5, 5, 5,\n",
       "       6, 5, 5, 5, 5, 5, 5, 6, 7, 5, 6, 6, 6, 5, 6, 6, 6, 6, 5, 6, 6, 5,\n",
       "       6, 6, 5, 5, 6, 5, 5, 7, 5, 5, 5, 5, 5, 7, 5, 7, 5, 6, 6, 6, 6, 5,\n",
       "       6, 5, 5, 5, 5, 6, 6, 6, 5, 5, 6, 5, 5, 6, 5, 5, 5, 5, 6, 6, 5, 5,\n",
       "       6, 5, 5, 7, 5, 6, 5, 6, 7, 7, 5, 5, 5, 5, 7, 6, 6, 5, 7, 5, 6, 5,\n",
       "       5, 6, 7, 7, 5, 5, 5, 5, 5, 6, 5, 5, 6, 6, 5, 5, 5, 5, 6, 5, 7, 5,\n",
       "       6, 5, 7, 5, 6, 5, 5, 5, 5, 7, 6, 6, 5, 6, 5, 6, 6, 6, 5, 6, 6, 6,\n",
       "       5, 5, 6, 6, 6, 6, 6, 6, 5, 5, 6, 5, 6, 6, 6, 6, 5, 6, 6, 6, 5, 6,\n",
       "       6, 5, 5, 6, 5, 7, 6, 5, 6, 6, 6, 5, 5, 6, 7, 7, 6, 7, 7, 6, 5, 5,\n",
       "       5, 5, 5, 5, 6, 5, 5, 5, 5, 5, 6, 5, 6, 5, 5, 5, 6, 5, 5, 6, 7, 6,\n",
       "       7, 5, 6, 6, 5, 5, 6, 6, 7, 5, 5, 5, 6, 6, 5, 5, 5, 5, 6, 5, 5, 5,\n",
       "       5, 6, 4, 5, 5, 6, 5, 5, 7, 6, 5, 5, 5, 6, 6, 5, 6, 6, 6, 5, 5, 6,\n",
       "       6, 6, 5, 5, 5, 6, 5, 5, 6, 5, 7, 5, 6, 5, 7, 5, 5, 5, 6, 6, 6, 5,\n",
       "       6, 6, 5, 6])"
      ]
     },
     "execution_count": 29,
     "metadata": {},
     "output_type": "execute_result"
    }
   ],
   "source": [
    "predictions = knn.predict(scaled_X_test)\n",
    "predictions"
   ]
  },
  {
   "cell_type": "code",
   "execution_count": 30,
   "id": "646b716b",
   "metadata": {},
   "outputs": [],
   "source": [
    "from sklearn.metrics import classification_report"
   ]
  },
  {
   "cell_type": "code",
   "execution_count": 31,
   "id": "4cc54a9d",
   "metadata": {
    "scrolled": false
   },
   "outputs": [
    {
     "name": "stdout",
     "output_type": "stream",
     "text": [
      "              precision    recall  f1-score   support\n",
      "\n",
      "           3       0.00      0.00      0.00         2\n",
      "           4       0.50      0.08      0.13        13\n",
      "           5       0.62      0.78      0.69       155\n",
      "           6       0.57      0.55      0.56       148\n",
      "           7       0.57      0.38      0.45        53\n",
      "           8       0.00      0.00      0.00         7\n",
      "\n",
      "    accuracy                           0.59       378\n",
      "   macro avg       0.38      0.30      0.31       378\n",
      "weighted avg       0.57      0.59      0.57       378\n",
      "\n"
     ]
    },
    {
     "name": "stderr",
     "output_type": "stream",
     "text": [
      "/Volumes/Kriti-1/Applications/anaconda3/lib/python3.9/site-packages/sklearn/metrics/_classification.py:1248: UndefinedMetricWarning: Precision and F-score are ill-defined and being set to 0.0 in labels with no predicted samples. Use `zero_division` parameter to control this behavior.\n",
      "  _warn_prf(average, modifier, msg_start, len(result))\n",
      "/Volumes/Kriti-1/Applications/anaconda3/lib/python3.9/site-packages/sklearn/metrics/_classification.py:1248: UndefinedMetricWarning: Precision and F-score are ill-defined and being set to 0.0 in labels with no predicted samples. Use `zero_division` parameter to control this behavior.\n",
      "  _warn_prf(average, modifier, msg_start, len(result))\n",
      "/Volumes/Kriti-1/Applications/anaconda3/lib/python3.9/site-packages/sklearn/metrics/_classification.py:1248: UndefinedMetricWarning: Precision and F-score are ill-defined and being set to 0.0 in labels with no predicted samples. Use `zero_division` parameter to control this behavior.\n",
      "  _warn_prf(average, modifier, msg_start, len(result))\n"
     ]
    }
   ],
   "source": [
    "print(classification_report(y_test, predictions))"
   ]
  },
  {
   "cell_type": "code",
   "execution_count": 32,
   "id": "6c5e7163",
   "metadata": {},
   "outputs": [],
   "source": [
    "ks = list(range(1, 500, 2))"
   ]
  },
  {
   "cell_type": "code",
   "execution_count": 33,
   "id": "fc64ed80",
   "metadata": {},
   "outputs": [],
   "source": [
    "from sklearn.model_selection import cross_val_score"
   ]
  },
  {
   "cell_type": "code",
   "execution_count": 35,
   "id": "c5d8f618",
   "metadata": {
    "scrolled": true
   },
   "outputs": [
    {
     "name": "stdout",
     "output_type": "stream",
     "text": [
      "Accuracy with 1 neighbors: 0.1032674480962231\n",
      "Accuracy with 3 neighbors: 0.1330537041293189\n",
      "Accuracy with 5 neighbors: 0.181199724201333\n",
      "Accuracy with 7 neighbors: 0.2633187772925764\n",
      "Accuracy with 9 neighbors: 0.27997012181107794\n",
      "Accuracy with 11 neighbors: 0.30189228529839884\n",
      "Accuracy with 13 neighbors: 0.3019037769095227\n",
      "Accuracy with 15 neighbors: 0.3097640389182563\n",
      "Accuracy with 17 neighbors: 0.3176434536121964\n",
      "Accuracy with 19 neighbors: 0.3097410556960086\n",
      "Accuracy with 21 neighbors: 0.29922623151765876\n",
      "Accuracy with 23 neighbors: 0.30886003217651115\n",
      "Accuracy with 25 neighbors: 0.3106335708266299\n",
      "Accuracy with 27 neighbors: 0.3141423427564544\n",
      "Accuracy with 29 neighbors: 0.31678924385198803\n",
      "Accuracy with 31 neighbors: 0.3238067877116372\n",
      "Accuracy with 33 neighbors: 0.330820501034245\n",
      "Accuracy with 35 neighbors: 0.33345207998161347\n",
      "Accuracy with 37 neighbors: 0.3369570213743967\n",
      "Accuracy with 39 neighbors: 0.33870374626522637\n",
      "Accuracy with 41 neighbors: 0.3352064659465257\n",
      "Accuracy with 43 neighbors: 0.3360874894660231\n",
      "Accuracy with 45 neighbors: 0.335210296483567\n",
      "Accuracy with 47 neighbors: 0.3352026354094844\n",
      "Accuracy with 49 neighbors: 0.3378457059679767\n",
      "Accuracy with 51 neighbors: 0.34749099823795293\n",
      "Accuracy with 53 neighbors: 0.34923772312878265\n",
      "Accuracy with 55 neighbors: 0.3483605301463265\n",
      "Accuracy with 57 neighbors: 0.35009959396307366\n",
      "Accuracy with 59 neighbors: 0.34484409714241937\n",
      "Accuracy with 61 neighbors: 0.33608365892898184\n",
      "Accuracy with 63 neighbors: 0.3422010265839271\n",
      "Accuracy with 65 neighbors: 0.338711407339309\n",
      "Accuracy with 67 neighbors: 0.33958476978472385\n",
      "Accuracy with 69 neighbors: 0.34133149467555357\n",
      "Accuracy with 71 neighbors: 0.3430782195663832\n",
      "Accuracy with 73 neighbors: 0.3413238336014709\n",
      "Accuracy with 75 neighbors: 0.34132766413851223\n",
      "Accuracy with 77 neighbors: 0.3439439209377155\n",
      "Accuracy with 79 neighbors: 0.3404504711560561\n",
      "Accuracy with 81 neighbors: 0.34132383360147095\n",
      "Accuracy with 83 neighbors: 0.34132383360147095\n",
      "Accuracy with 85 neighbors: 0.3421971960468858\n",
      "Accuracy with 87 neighbors: 0.3421971960468858\n",
      "Accuracy with 89 neighbors: 0.34132383360147095\n",
      "Accuracy with 91 neighbors: 0.3430705584923006\n",
      "Accuracy with 93 neighbors: 0.3456906458285452\n",
      "Accuracy with 95 neighbors: 0.34481728338313034\n",
      "Accuracy with 97 neighbors: 0.34656400827396\n",
      "Accuracy with 99 neighbors: 0.34481728338313034\n",
      "Accuracy with 101 neighbors: 0.3430705584923006\n",
      "Accuracy with 103 neighbors: 0.34307055849230067\n",
      "Accuracy with 105 neighbors: 0.34306289741821805\n",
      "Accuracy with 107 neighbors: 0.3430590668811767\n",
      "Accuracy with 109 neighbors: 0.3413046809162644\n",
      "Accuracy with 111 neighbors: 0.3456829847544626\n",
      "Accuracy with 113 neighbors: 0.3421857044357619\n",
      "Accuracy with 115 neighbors: 0.34306672795525933\n",
      "Accuracy with 117 neighbors: 0.33956944763655866\n",
      "Accuracy with 119 neighbors: 0.3413161725273884\n",
      "Accuracy with 121 neighbors: 0.34131617252738833\n",
      "Accuracy with 123 neighbors: 0.3404351490078909\n",
      "Accuracy with 125 neighbors: 0.34130851145330576\n",
      "Accuracy with 127 neighbors: 0.3430590668811767\n",
      "Accuracy with 129 neighbors: 0.34130851145330576\n",
      "Accuracy with 131 neighbors: 0.33867693250593733\n",
      "Accuracy with 133 neighbors: 0.3395502949513522\n",
      "Accuracy with 135 neighbors: 0.34042365739676705\n",
      "Accuracy with 137 neighbors: 0.33867693250593733\n",
      "Accuracy with 139 neighbors: 0.33780357006052253\n",
      "Accuracy with 141 neighbors: 0.3395541254883935\n",
      "Accuracy with 143 neighbors: 0.3395541254883935\n",
      "Accuracy with 145 neighbors: 0.33693020761510767\n",
      "Accuracy with 147 neighbors: 0.3360606757067341\n",
      "Accuracy with 149 neighbors: 0.33780740059756376\n",
      "Accuracy with 151 neighbors: 0.3369302076151076\n",
      "Accuracy with 153 neighbors: 0.342174212824638\n",
      "Accuracy with 155 neighbors: 0.34391710717842644\n",
      "Accuracy with 157 neighbors: 0.34478663908679996\n",
      "Accuracy with 159 neighbors: 0.34916111238795683\n",
      "Accuracy with 161 neighbors: 0.35178119972420135\n",
      "Accuracy with 163 neighbors: 0.3587680992875201\n",
      "Accuracy with 165 neighbors: 0.35789473684210527\n",
      "Accuracy with 167 neighbors: 0.3596452922699763\n",
      "Accuracy with 169 neighbors: 0.36138818662376465\n",
      "Accuracy with 171 neighbors: 0.36139201716080593\n",
      "Accuracy with 173 neighbors: 0.3622653796062208\n",
      "Accuracy with 175 neighbors: 0.3649007890906305\n",
      "Accuracy with 177 neighbors: 0.3657626599249215\n",
      "Accuracy with 179 neighbors: 0.36839806940933123\n",
      "Accuracy with 181 neighbors: 0.37189534972803184\n",
      "Accuracy with 183 neighbors: 0.37101049567149313\n",
      "Accuracy with 185 neighbors: 0.37188385811690805\n",
      "Accuracy with 187 neighbors: 0.3727648816364054\n",
      "Accuracy with 189 neighbors: 0.37538496897264995\n",
      "Accuracy with 191 neighbors: 0.37713935493756223\n",
      "Accuracy with 193 neighbors: 0.37713169386347967\n",
      "Accuracy with 195 neighbors: 0.37888224929135067\n",
      "Accuracy with 197 neighbors: 0.37713935493756223\n",
      "Accuracy with 199 neighbors: 0.37625833141806486\n",
      "Accuracy with 201 neighbors: 0.38150616716463653\n",
      "Accuracy with 203 neighbors: 0.3832528920554662\n",
      "Accuracy with 205 neighbors: 0.38150616716463653\n",
      "Accuracy with 207 neighbors: 0.3823833601470926\n",
      "Accuracy with 209 neighbors: 0.3797594422738068\n",
      "Accuracy with 211 neighbors: 0.38413391557496357\n",
      "Accuracy with 213 neighbors: 0.38500727802037843\n",
      "Accuracy with 215 neighbors: 0.38675400291120815\n",
      "Accuracy with 217 neighbors: 0.39025894430399144\n",
      "Accuracy with 219 neighbors: 0.39199800812073854\n",
      "Accuracy with 221 neighbors: 0.4050984448019612\n",
      "Accuracy with 223 neighbors: 0.41208151382823877\n",
      "Accuracy with 225 neighbors: 0.41383206925610966\n",
      "Accuracy with 227 neighbors: 0.412947215199571\n",
      "Accuracy with 229 neighbors: 0.41643683444418905\n",
      "Accuracy with 231 neighbors: 0.420799816134222\n",
      "Accuracy with 233 neighbors: 0.4225465410250517\n",
      "Accuracy with 235 neighbors: 0.420799816134222\n",
      "Accuracy with 237 neighbors: 0.4304068030337853\n",
      "Accuracy with 239 neighbors: 0.4330268903700299\n",
      "Accuracy with 241 neighbors: 0.4330268903700299\n",
      "Accuracy with 243 neighbors: 0.4339002528154447\n",
      "Accuracy with 245 neighbors: 0.4356469777062745\n",
      "Accuracy with 247 neighbors: 0.4373937025971041\n",
      "Accuracy with 249 neighbors: 0.43215352792461503\n",
      "Accuracy with 251 neighbors: 0.4269133532521259\n",
      "Accuracy with 253 neighbors: 0.4269133532521259\n",
      "Accuracy with 255 neighbors: 0.4373937025971041\n",
      "Accuracy with 257 neighbors: 0.43914042748793386\n",
      "Accuracy with 259 neighbors: 0.43826706504251894\n",
      "Accuracy with 261 neighbors: 0.4365203401516893\n",
      "Accuracy with 263 neighbors: 0.43826706504251894\n",
      "Accuracy with 265 neighbors: 0.44350723971500805\n",
      "Accuracy with 267 neighbors: 0.44350723971500805\n",
      "Accuracy with 269 neighbors: 0.44263387726959313\n",
      "Accuracy with 271 neighbors: 0.44001378993334866\n",
      "Accuracy with 273 neighbors: 0.43914042748793386\n",
      "Accuracy with 275 neighbors: 0.43826706504251894\n",
      "Accuracy with 277 neighbors: 0.43826706504251894\n",
      "Accuracy with 279 neighbors: 0.44176051482417833\n",
      "Accuracy with 281 neighbors: 0.44263387726959313\n",
      "Accuracy with 283 neighbors: 0.43826706504251894\n",
      "Accuracy with 285 neighbors: 0.4356469777062745\n",
      "Accuracy with 287 neighbors: 0.43826706504251894\n",
      "Accuracy with 289 neighbors: 0.43914042748793386\n",
      "Accuracy with 291 neighbors: 0.4365203401516893\n",
      "Accuracy with 293 neighbors: 0.43477361526085956\n",
      "Accuracy with 295 neighbors: 0.4339002528154447\n",
      "Accuracy with 297 neighbors: 0.43477361526085956\n",
      "Accuracy with 299 neighbors: 0.43215352792461503\n",
      "Accuracy with 301 neighbors: 0.42778671569754084\n",
      "Accuracy with 303 neighbors: 0.42603999080671107\n",
      "Accuracy with 305 neighbors: 0.4304068030337853\n",
      "Accuracy with 307 neighbors: 0.42866007814295565\n",
      "Accuracy with 309 neighbors: 0.42516662836129626\n",
      "Accuracy with 311 neighbors: 0.420799816134222\n",
      "Accuracy with 313 neighbors: 0.4216731785796369\n",
      "Accuracy with 315 neighbors: 0.42341990347046654\n",
      "Accuracy with 317 neighbors: 0.420799816134222\n",
      "Accuracy with 319 neighbors: 0.420799816134222\n",
      "Accuracy with 321 neighbors: 0.420799816134222\n",
      "Accuracy with 323 neighbors: 0.4216731785796369\n",
      "Accuracy with 325 neighbors: 0.42429326591588146\n",
      "Accuracy with 327 neighbors: 0.42341990347046654\n",
      "Accuracy with 329 neighbors: 0.42778671569754084\n",
      "Accuracy with 331 neighbors: 0.4269133532521259\n",
      "Accuracy with 333 neighbors: 0.4295334405883705\n",
      "Accuracy with 335 neighbors: 0.42778671569754084\n",
      "Accuracy with 337 neighbors: 0.42603999080671107\n",
      "Accuracy with 339 neighbors: 0.42516662836129626\n",
      "Accuracy with 341 neighbors: 0.42429326591588146\n"
     ]
    },
    {
     "name": "stdout",
     "output_type": "stream",
     "text": [
      "Accuracy with 343 neighbors: 0.4225465410250517\n",
      "Accuracy with 345 neighbors: 0.4199264536888072\n",
      "Accuracy with 347 neighbors: 0.420799816134222\n",
      "Accuracy with 349 neighbors: 0.4199264536888072\n",
      "Accuracy with 351 neighbors: 0.4216731785796369\n",
      "Accuracy with 353 neighbors: 0.4216731785796369\n",
      "Accuracy with 355 neighbors: 0.4199264536888072\n",
      "Accuracy with 357 neighbors: 0.4199264536888072\n",
      "Accuracy with 359 neighbors: 0.420799816134222\n",
      "Accuracy with 361 neighbors: 0.4225465410250517\n",
      "Accuracy with 363 neighbors: 0.42341990347046654\n",
      "Accuracy with 365 neighbors: 0.420799816134222\n",
      "Accuracy with 367 neighbors: 0.4181797287979775\n",
      "Accuracy with 369 neighbors: 0.4199264536888072\n",
      "Accuracy with 371 neighbors: 0.420799816134222\n",
      "Accuracy with 373 neighbors: 0.42429326591588146\n",
      "Accuracy with 375 neighbors: 0.42429326591588146\n",
      "Accuracy with 377 neighbors: 0.4330268903700299\n",
      "Accuracy with 379 neighbors: 0.4356469777062745\n",
      "Accuracy with 381 neighbors: 0.43215352792461503\n",
      "Accuracy with 383 neighbors: 0.4330268903700299\n",
      "Accuracy with 385 neighbors: 0.4330268903700299\n",
      "Accuracy with 387 neighbors: 0.43477361526085956\n",
      "Accuracy with 389 neighbors: 0.43477361526085956\n",
      "Accuracy with 391 neighbors: 0.4339002528154447\n",
      "Accuracy with 393 neighbors: 0.43477361526085956\n",
      "Accuracy with 395 neighbors: 0.4356469777062745\n",
      "Accuracy with 397 neighbors: 0.4365203401516893\n",
      "Accuracy with 399 neighbors: 0.4373937025971041\n",
      "Accuracy with 401 neighbors: 0.4373937025971041\n",
      "Accuracy with 403 neighbors: 0.43826706504251894\n",
      "Accuracy with 405 neighbors: 0.4373937025971041\n",
      "Accuracy with 407 neighbors: 0.43826706504251894\n",
      "Accuracy with 409 neighbors: 0.43826706504251894\n",
      "Accuracy with 411 neighbors: 0.43914042748793386\n",
      "Accuracy with 413 neighbors: 0.43914042748793386\n",
      "Accuracy with 415 neighbors: 0.43914042748793386\n",
      "Accuracy with 417 neighbors: 0.43826706504251894\n",
      "Accuracy with 419 neighbors: 0.43826706504251894\n",
      "Accuracy with 421 neighbors: 0.43914042748793386\n",
      "Accuracy with 423 neighbors: 0.43914042748793386\n",
      "Accuracy with 425 neighbors: 0.44001762047038995\n",
      "Accuracy with 427 neighbors: 0.44001762047038995\n",
      "Accuracy with 429 neighbors: 0.4373937025971041\n",
      "Accuracy with 431 neighbors: 0.43826706504251894\n",
      "Accuracy with 433 neighbors: 0.43826706504251894\n",
      "Accuracy with 435 neighbors: 0.43826706504251894\n",
      "Accuracy with 437 neighbors: 0.43914042748793386\n",
      "Accuracy with 439 neighbors: 0.4373937025971041\n",
      "Accuracy with 441 neighbors: 0.4373937025971041\n",
      "Accuracy with 443 neighbors: 0.43564697770627436\n",
      "Accuracy with 445 neighbors: 0.4373937025971041\n",
      "Accuracy with 447 neighbors: 0.4373937025971041\n",
      "Accuracy with 449 neighbors: 0.43914042748793386\n",
      "Accuracy with 451 neighbors: 0.43826706504251894\n",
      "Accuracy with 453 neighbors: 0.43914042748793386\n",
      "Accuracy with 455 neighbors: 0.43914042748793386\n",
      "Accuracy with 457 neighbors: 0.43914042748793386\n",
      "Accuracy with 459 neighbors: 0.43914042748793386\n",
      "Accuracy with 461 neighbors: 0.44001378993334866\n",
      "Accuracy with 463 neighbors: 0.43914042748793375\n",
      "Accuracy with 465 neighbors: 0.43826706504251894\n",
      "Accuracy with 467 neighbors: 0.4356469777062745\n",
      "Accuracy with 469 neighbors: 0.43477361526085956\n",
      "Accuracy with 471 neighbors: 0.43477361526085956\n",
      "Accuracy with 473 neighbors: 0.4356469777062745\n",
      "Accuracy with 475 neighbors: 0.4356469777062745\n",
      "Accuracy with 477 neighbors: 0.4365203401516893\n",
      "Accuracy with 479 neighbors: 0.4382708955795603\n",
      "Accuracy with 481 neighbors: 0.43914808856201637\n",
      "Accuracy with 483 neighbors: 0.4382747261166015\n",
      "Accuracy with 485 neighbors: 0.4400214510074313\n",
      "Accuracy with 487 neighbors: 0.43739753313414537\n",
      "Accuracy with 489 neighbors: 0.43477361526085956\n",
      "Accuracy with 491 neighbors: 0.4365203401516893\n",
      "Accuracy with 493 neighbors: 0.4373937025971041\n",
      "Accuracy with 495 neighbors: 0.4365203401516893\n",
      "Accuracy with 497 neighbors: 0.43477361526085956\n",
      "Accuracy with 499 neighbors: 0.43477361526085956\n"
     ]
    }
   ],
   "source": [
    "scores = []\n",
    "\n",
    "for k in ks:\n",
    "    knn = KNeighborsClassifier(k)\n",
    "    score = cross_val_score(knn, X, y, cv = 5, scoring = 'accuracy').mean()\n",
    "    scores.append(score)\n",
    "    print(f\"Accuracy with {k} neighbors: {score}\")"
   ]
  },
  {
   "cell_type": "code",
   "execution_count": 36,
   "id": "7393d5b4",
   "metadata": {},
   "outputs": [
    {
     "data": {
      "text/plain": [
       "0.44350723971500805"
      ]
     },
     "execution_count": 36,
     "metadata": {},
     "output_type": "execute_result"
    }
   ],
   "source": [
    "max(scores)"
   ]
  },
  {
   "cell_type": "code",
   "execution_count": null,
   "id": "2441d39f",
   "metadata": {},
   "outputs": [],
   "source": []
  }
 ],
 "metadata": {
  "kernelspec": {
   "display_name": "Python 3 (ipykernel)",
   "language": "python",
   "name": "python3"
  },
  "language_info": {
   "codemirror_mode": {
    "name": "ipython",
    "version": 3
   },
   "file_extension": ".py",
   "mimetype": "text/x-python",
   "name": "python",
   "nbconvert_exporter": "python",
   "pygments_lexer": "ipython3",
   "version": "3.9.7"
  }
 },
 "nbformat": 4,
 "nbformat_minor": 5
}
