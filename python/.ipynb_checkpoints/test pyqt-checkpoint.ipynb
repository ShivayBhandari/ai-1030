{
 "cells": [
  {
   "cell_type": "code",
   "execution_count": 4,
   "id": "4e85089f",
   "metadata": {},
   "outputs": [],
   "source": [
    "import sys\n",
    "from PyQt5.QtWidgets import QApplication, QWidget, QLabel, QHBoxLayout, QPushButton, QVBoxLayout"
   ]
  },
  {
   "cell_type": "code",
   "execution_count": 2,
   "id": "4637949e",
   "metadata": {},
   "outputs": [
    {
     "ename": "SystemExit",
     "evalue": "0",
     "output_type": "error",
     "traceback": [
      "An exception has occurred, use %tb to see the full traceback.\n",
      "\u001b[0;31mSystemExit\u001b[0m\u001b[0;31m:\u001b[0m 0\n"
     ]
    },
    {
     "name": "stderr",
     "output_type": "stream",
     "text": [
      "/Volumes/Kriti-1/Applications/anaconda3/lib/python3.8/site-packages/IPython/core/interactiveshell.py:3449: UserWarning: To exit: use 'exit', 'quit', or Ctrl-D.\n",
      "  warn(\"To exit: use 'exit', 'quit', or Ctrl-D.\", stacklevel=1)\n"
     ]
    }
   ],
   "source": [
    "app = QApplication(sys.argv)\n",
    "\n",
    "window = QWidget()\n",
    "window.setWindowTitle(\"Hi!\")\n",
    "window.setGeometry(100, 100, 280, 80)\n",
    "window.move(60, 15)\n",
    "\n",
    "message = QLabel(\"<h1>Hello world</h1>\", parent=window)\n",
    "message.move(60, 15)\n",
    "\n",
    "window.show()\n",
    "sys.exit(app.exec_())"
   ]
  },
  {
   "cell_type": "code",
   "execution_count": 5,
   "id": "f6b57bf0",
   "metadata": {},
   "outputs": [
    {
     "ename": "SystemExit",
     "evalue": "0",
     "output_type": "error",
     "traceback": [
      "An exception has occurred, use %tb to see the full traceback.\n",
      "\u001b[0;31mSystemExit\u001b[0m\u001b[0;31m:\u001b[0m 0\n"
     ]
    },
    {
     "name": "stderr",
     "output_type": "stream",
     "text": [
      "/Volumes/Kriti-1/Applications/anaconda3/lib/python3.8/site-packages/IPython/core/interactiveshell.py:3449: UserWarning: To exit: use 'exit', 'quit', or Ctrl-D.\n",
      "  warn(\"To exit: use 'exit', 'quit', or Ctrl-D.\", stacklevel=1)\n"
     ]
    }
   ],
   "source": [
    "app2 = QApplication(sys.argv)\n",
    "window2 = QWidget()\n",
    "window2.setWindowTitle(\"Buttons\")\n",
    "\n",
    "layout2 = QVBoxLayout()\n",
    "layout2.addWidget(QPushButton(\"Left\"))\n",
    "layout2.addWidget(QPushButton(\"Center\"))\n",
    "layout2.addWidget(QPushButton(\"Right\"))\n",
    "window2.setLayout(layout2)\n",
    "\n",
    "window2.show()\n",
    "sys.exit(app2.exec_())"
   ]
  },
  {
   "cell_type": "code",
   "execution_count": null,
   "id": "0944d681",
   "metadata": {},
   "outputs": [],
   "source": []
  }
 ],
 "metadata": {
  "kernelspec": {
   "display_name": "Python 3 (ipykernel)",
   "language": "python",
   "name": "python3"
  },
  "language_info": {
   "codemirror_mode": {
    "name": "ipython",
    "version": 3
   },
   "file_extension": ".py",
   "mimetype": "text/x-python",
   "name": "python",
   "nbconvert_exporter": "python",
   "pygments_lexer": "ipython3",
   "version": "3.8.11"
  }
 },
 "nbformat": 4,
 "nbformat_minor": 5
}
